{
 "cells": [
  {
   "cell_type": "code",
   "execution_count": null,
   "metadata": {},
   "outputs": [],
   "source": [
    "%matplotlib inline\n",
    "import numpy as np\n",
    "import matplotlib.pyplot as plt\n",
    "import brian2 as b2\n",
    "from brian2 import *\n",
    "\n",
    "start_scope()\n",
    "\n",
    "\n",
    "Cm = 2*nfarad\n",
    "Rm = 5e6*ohm\n",
    "El = -70*mV\n",
    "Vl = -50*mV\n",
    "vr = -65*mV\n",
    "duration = 2*second\n",
    "\n",
    "# O termo de ruído branco é dado por (Ix*sigma*xi*dt**0.5)/Cm\n",
    "\n",
    "eqs = '''\n",
    "dv/dt = ((El - v) / (Cm*Rm)) + (Ix/Cm) + ((Ix*sigma*xi*dt**0.5)/Cm) : volt\n",
    "Ix : amp\n",
    "'''\n",
    "sigma = 0\n",
    "G = NeuronGroup(10, eqs, threshold='v>Vl', reset= 'v=vr',  method='euler', dt= 0.01*ms )\n",
    "G.Ix = [4.1, 4.2, 4.6, 4.8, 5., 5.2, 5.4, 5.5, 5.6, 5.7]*nA\n",
    "monitor = SpikeMonitor(G)\n",
    "run(duration)\n",
    "plot(G.Ix/nA, monitor.count / duration, label = \"Sigma: {}\".format(sigma))\n",
    "\n",
    "sigma = 3\n",
    "G = NeuronGroup(10, eqs, threshold='v>Vl', reset= 'v=vr',  method='euler', dt= 0.01*ms )\n",
    "G.Ix = [4.1, 4.2, 4.6, 4.8, 5., 5.2, 5.4, 5.5, 5.6, 5.7]*nA\n",
    "monitor = SpikeMonitor(G)\n",
    "run(duration)\n",
    "plot(G.Ix/nA, monitor.count / duration, label = \"Sigma: {}\".format(sigma))\n",
    "\n",
    "sigma = 10\n",
    "G = NeuronGroup(10, eqs, threshold='v>Vl', reset= 'v=vr',  method='euler', dt= 0.01*ms )\n",
    "G.Ix = [4.1, 4.2, 4.6, 4.8, 5., 5.2, 5.4, 5.5, 5.6, 5.7]*nA\n",
    "monitor = SpikeMonitor(G)\n",
    "run(duration)\n",
    "plot(G.Ix/nA, monitor.count / duration, label = \"Sigma: {}\".format(sigma))\n",
    "    \n",
    "xlabel('I (nA)')\n",
    "ylabel('Firing rate (sp/s)')\n",
    "legend()\n",
    "show()\n"
   ]
  }
 ],
 "metadata": {
  "kernelspec": {
   "display_name": "Python 2",
   "language": "python",
   "name": "python2"
  },
  "language_info": {
   "codemirror_mode": {
    "name": "ipython",
    "version": 2
   },
   "file_extension": ".py",
   "mimetype": "text/x-python",
   "name": "python",
   "nbconvert_exporter": "python",
   "pygments_lexer": "ipython2",
   "version": "2.7.16"
  }
 },
 "nbformat": 4,
 "nbformat_minor": 2
}
