{
 "cells": [
  {
   "cell_type": "code",
   "execution_count": 6,
   "metadata": {},
   "outputs": [],
   "source": [
    "%matplotlib inline\n",
    "import brian2 as b2\n",
    "import matplotlib.pyplot as plt\n",
    "import numpy as np\n",
    "import math\n",
    "import random\n",
    "from neurodynex. tools import input_factory"
   ]
  },
  {
   "cell_type": "code",
   "execution_count": 7,
   "metadata": {},
   "outputs": [
    {
     "name": "stderr",
     "output_type": "stream",
     "text": [
      "WARNING    C:\\Users\\adm\\Miniconda2\\envs\\bmnn\\lib\\site-packages\\ipykernel_launcher.py:27: VisibleDeprecationWarning: using a non-integer number instead of an integer will result in an error in the future\n",
      " [py.warnings]\n"
     ]
    },
    {
     "name": "stdout",
     "output_type": "stream",
     "text": [
      "nr of spikes: 30781\n",
      "The Coefficient of Variation (CV) is in percetange of: 81.825967115\n",
      "FANO: 2.7\n"
     ]
    },
    {
     "data": {
      "image/png": "[encoded data removed]",
      "text/plain": [
       "<Figure size 720x360 with 1 Axes>"
      ]
     },
     "metadata": {
      "needs_background": "light"
     },
     "output_type": "display_data"
    }
   ],
   "source": [
    "v_rest= -70*b2.mV #EL\n",
    "v_reset= -80*b2.mV #Vreset\n",
    "conductance_L = 10*b2.nsiemens #GL\n",
    "membrane_capacitance = 100*b2.pF #CM\n",
    "firing_threshold = -50 * b2.mV #Vth\n",
    "deltaVth = 2*b2.mV\n",
    "\n",
    "a = 2*b2.nsiemens\n",
    "b = 0*b2.nA\n",
    "\n",
    "tau_w = 150*b2.ms\n",
    "v_max = 20*b2.mV\n",
    "\n",
    "simulation_time = 10000\n",
    "dt =  0.01*b2.ms \n",
    "\n",
    "t_start=0\n",
    "t_end=simulation_time\n",
    "sigma = 20*b2.pA\n",
    "dt_cur = 0.01\n",
    "sigma = sigma/(np.sqrt(dt_cur))\n",
    "mi=0\n",
    "unit_time=b2.ms\n",
    "\n",
    "tmp_size = 1 + t_end  # +1 for t=0\n",
    "\n",
    "tmp = np.zeros((tmp_size/dt_cur, 1)) * b2.pA\n",
    "size=3000\n",
    "x = np.linspace(-size, size, size/dt_cur) * b2.pA\n",
    "normal = np.asarray((1/np.sqrt(2*math.pi*sigma**2))*math.e**(-((x-mi)**2)/(2*sigma**2)))\n",
    "\n",
    "normal = normal*b2.pA\n",
    "for k in range(int(tmp_size/dt_cur)):\n",
    "    tmp[k, 0] = random.choice(normal) + 0.1*b2.nA\n",
    "\n",
    "input_current = b2.TimedArray(tmp, dt=dt)\n",
    "\n",
    "eqs = \"\"\"\n",
    "dv/dt = (conductance_L/membrane_capacitance)*\n",
    "        (v_rest - v + deltaVth*exp((v-firing_threshold)/deltaVth))\n",
    "        - (w/membrane_capacitance)\n",
    "        + (input_current(t,i)/membrane_capacitance) : volt\n",
    "dw/dt = (a*(v-v_rest)-w)/tau_w :  amp\n",
    "\"\"\"\n",
    "neuron = b2.NeuronGroup(1, model=eqs, reset=\"v=v_reset; w=w+b\",\n",
    "                        threshold=\"v>v_max\", method=\"euler\")\n",
    "neuron.v = v_rest\n",
    "neuron.w = 0*b2.pA\n",
    "\n",
    "# monitoring membrane potential of neuron and injecting current\n",
    "state_monitor = b2.StateMonitor(neuron, [\"v\", \"w\"], record=True)\n",
    "spike_monitor = b2.SpikeMonitor(neuron)\n",
    "# run the simulation\n",
    "b2.run(simulation_time*b2.ms)\n",
    "\n",
    "print(\"nr of spikes: {}\".format(spike_monitor.count[0]))\n",
    "\n",
    "vector = list()\n",
    "spikes = spike_monitor.count[:]\n",
    "inter = np.full(len(spikes[:]), np.nan)\n",
    "\n",
    "for k in range(len(spike_monitor.t)-1):\n",
    "    inter = (float(spike_monitor.spike_trains()[0][k+1]) - float(spike_monitor.spike_trains()[0][k]));\n",
    "    vector.append(inter)\n",
    "        \n",
    "fig = plt.figure(figsize=(10, 5))\n",
    "plt.hist(vector, 5 , facecolor = 'k')\n",
    "plt.xlabel('ISI')\n",
    "\n",
    "isi_mu = np.mean(vector)\n",
    "isi_std = np.std(vector)\n",
    "CV = isi_std*100/isi_mu\n",
    "print(\"The Coefficient of Variation (CV) is in percetange of: %s\" % CV)\n",
    "\n",
    "aux=[]\n",
    "for j in range(10):\n",
    "    state_monitor = b2.StateMonitor(neuron, [\"v\", \"w\"], record=True)\n",
    "    spike_monitor = b2.SpikeMonitor(neuron)\n",
    "    b2.run(100*b2.ms)\n",
    "    aux.append(spike_monitor.count[:])\n",
    "    \n",
    "mean = np.mean(aux)\n",
    "var = np.var(aux)\n",
    "print(\"FANO: {}\".format(var/mean))"
   ]
  },
  {
   "cell_type": "code",
   "execution_count": 8,
   "metadata": {},
   "outputs": [
    {
     "name": "stderr",
     "output_type": "stream",
     "text": [
      "WARNING    C:\\Users\\adm\\Miniconda2\\envs\\bmnn\\lib\\site-packages\\ipykernel_launcher.py:27: VisibleDeprecationWarning: using a non-integer number instead of an integer will result in an error in the future\n",
      " [py.warnings]\n"
     ]
    },
    {
     "data": {
      "image/png": "[encoded data removed]",
      "text/plain": [
       "<Figure size 432x288 with 1 Axes>"
      ]
     },
     "metadata": {
      "needs_background": "light"
     },
     "output_type": "display_data"
    }
   ],
   "source": [
    "v_rest= -70*b2.mV #EL\n",
    "v_reset= -80*b2.mV #Vreset\n",
    "conductance_L = 10*b2.nsiemens #GL\n",
    "membrane_capacitance = 100*b2.pF #CM\n",
    "firing_threshold = -50 * b2.mV #Vth\n",
    "deltaVth = 2*b2.mV\n",
    "\n",
    "a = 2*b2.nsiemens\n",
    "b = 0*b2.nA\n",
    "\n",
    "tau_w = 150*b2.ms\n",
    "v_max = 20*b2.mV\n",
    "\n",
    "simulation_time = 10000\n",
    "dt =  0.01*b2.ms \n",
    "\n",
    "t_start=0\n",
    "t_end=simulation_time\n",
    "sigma = 20*b2.pA\n",
    "dt_cur = 0.01\n",
    "sigma = sigma/(np.sqrt(dt_cur))\n",
    "mi=0\n",
    "unit_time=b2.ms\n",
    "\n",
    "tmp_size = 1 + t_end  # +1 for t=0\n",
    "\n",
    "tmp = np.zeros((tmp_size/dt_cur, 1)) * b2.pA\n",
    "size=3000\n",
    "x = np.linspace(-size, size, size/dt_cur) * b2.pA\n",
    "normal = np.asarray((1/np.sqrt(2*math.pi*sigma**2))*math.e**(-((x-mi)**2)/(2*sigma**2)))\n",
    "\n",
    "normal = normal*b2.pA\n",
    "for k in range(int(tmp_size/dt_cur)):\n",
    "    tmp[k, 0] = random.choice(normal) + 0.1*b2.nA\n",
    "\n",
    "input_current = b2.TimedArray(tmp, dt=dt)\n",
    "\n",
    "eqs = \"\"\"\n",
    "dv/dt = (conductance_L/membrane_capacitance)*\n",
    "        (v_rest - v + deltaVth*exp((v-firing_threshold)/deltaVth))\n",
    "        - (w/membrane_capacitance)\n",
    "        + (input_current(t,i)/membrane_capacitance) : volt\n",
    "dw/dt = (a*(v-v_rest)-w)/tau_w :  amp\n",
    "\"\"\"\n",
    "neuron = b2.NeuronGroup(1, model=eqs, reset=\"v=v_reset; w=w+b\",\n",
    "                        threshold=\"v>v_max\", method=\"euler\")\n",
    "neuron.v = v_rest\n",
    "neuron.w = 0*b2.pA\n",
    "\n",
    "# monitoring membrane potential of neuron and injecting current\n",
    "state_monitor = b2.StateMonitor(neuron, [\"v\", \"w\"], record=True)\n",
    "spike_monitor = b2.SpikeMonitor(neuron)\n",
    "# run the simulation\n",
    "b2.run(simulation_time*b2.ms)\n",
    "\n",
    "aux=[]\n",
    "win = []\n",
    "fano = []\n",
    "for k in range(100):\n",
    "    state_monitor = b2.StateMonitor(neuron, [\"v\"], record=True)\n",
    "    spike_monitor = b2.SpikeMonitor(neuron)\n",
    "    b2.run(100*b2.ms)\n",
    "    win.append(100000*b2.ms*(k+1)*b2.ms)\n",
    "    aux.append(spike_monitor.count[:])\n",
    "    mean = np.mean(aux)\n",
    "    var = np.var(aux)\n",
    "    fano.append(var/mean)\n",
    "plt.figure()\n",
    "plt.plot(win, fano)\n",
    "plt.xlabel('Tamanho da janela (ms)')\n",
    "plt.ylabel('Fator de FANO')\n",
    "plt.show()"
   ]
  },
  {
   "cell_type": "code",
   "execution_count": null,
   "metadata": {},
   "outputs": [],
   "source": []
  }
 ],
 "metadata": {
  "kernelspec": {
   "display_name": "Python 2",
   "language": "python",
   "name": "python2"
  },
  "language_info": {
   "codemirror_mode": {
    "name": "ipython",
    "version": 2
   },
   "file_extension": ".py",
   "mimetype": "text/x-python",
   "name": "python",
   "nbconvert_exporter": "python",
   "pygments_lexer": "ipython2",
   "version": "2.7.16"
  }
 },
 "nbformat": 4,
 "nbformat_minor": 2
}
