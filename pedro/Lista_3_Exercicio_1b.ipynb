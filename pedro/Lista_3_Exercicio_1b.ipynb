{
 "cells": [
  {
   "cell_type": "code",
   "execution_count": 3,
   "metadata": {},
   "outputs": [
    {
     "data": {
      "image/png": "[encoded data removed]",
      "text/plain": [
       "<Figure size 432x288 with 1 Axes>"
      ]
     },
     "metadata": {
      "needs_background": "light"
     },
     "output_type": "display_data"
    }
   ],
   "source": [
    "%matplotlib inline\n",
    "import brian2 as b2\n",
    "import matplotlib.pyplot as plt\n",
    "import numpy as np\n",
    "from neurodynex. tools import input_factory, plot_tools\n",
    "from brian2 import *\n",
    "\n",
    "# Descrição dos parâmetros do modelo\n",
    "\n",
    "Cm = 100*b2.pF # capacitância da membrana\n",
    "Rm = 100*Mohm # resistência da membrana\n",
    "El = -75*mV # potencial de equilíbrio da membrana\n",
    "Vl = -50*mV # valor limiar de tensão de emissão de disparo\n",
    "vr = -80*mV # valor de tensão de repouso após 'resetagem'\n",
    "Ek = -80*mV # potencial de equilíbrio da membrana\n",
    "tau_Ga = 200*ms\n",
    "duration = 5000*ms\n",
    "delta_Ga = 1*nsiemens\n",
    "Ga_0 = 0*b2.nsiemens\n",
    "current = np.arange(300,500,10)\n",
    "\n",
    "# Modelo Neurônio\n",
    "start_scope()\n",
    "eqs = \"\"\"\n",
    "dGa/dt = -Ga/tau_Ga : siemens\n",
    "dv/dt =\n",
    "( ( (El-v)/(Cm * Rm) ) + (Ga *(Ek - v))/Cm + (current/Cm) ) : volt\n",
    "current : amp\n",
    "\"\"\"\n",
    "G = b2.NeuronGroup(\n",
    "    len(current), model=eqs, reset=\"v=vr; Ga=Ga+delta_Ga\", threshold=\"v>Vl\", method=\"euler\", dt =  0.1 * b2.ms )\n",
    "G.v = El  # set initial value\n",
    "G.Ga = Ga_0\n",
    "G.current = current*b2.pA\n",
    "statemon = b2.StateMonitor(G, [\"v\",\"Ga\"], record=True)\n",
    "spikemon = b2.SpikeMonitor(G)\n",
    "\n",
    "# Rodando simulação\n",
    "b2.run(duration)\n",
    "\n",
    "input_current = [None]*len(current)\n",
    "first_inter = [None]*len(current)\n",
    "stationary_inter = [None]*len(current)\n",
    "for i in range(len(current)):\n",
    "    first_inter[i] = 1/(float(spikemon.spike_trains()[i][2]) - float(spikemon.spike_trains()[i][1]))\n",
    "    stationary_inter[i] = 1/(float(spikemon.spike_trains()[i][-2]) - float(spikemon.spike_trains()[i][-3]))\n",
    "    \n",
    "# Plot\n",
    "plt.plot(G.current/b2.pA, first_inter/b2.second, 'o' , c='C3', lw=3, label='Transient Interval')\n",
    "plt.plot(G.current/b2.pA, stationary_inter/b2.second, label='Stationary Interval')\n",
    "plt.xlabel('I (pA)')\n",
    "plt.ylabel('Firing rate (sp/s)')\n",
    "plt.legend()\n",
    "plt.show()\n"
   ]
  },
  {
   "cell_type": "code",
   "execution_count": null,
   "metadata": {},
   "outputs": [],
   "source": []
  }
 ],
 "metadata": {
  "kernelspec": {
   "display_name": "Python 2",
   "language": "python",
   "name": "python2"
  },
  "language_info": {
   "codemirror_mode": {
    "name": "ipython",
    "version": 2
   },
   "file_extension": ".py",
   "mimetype": "text/x-python",
   "name": "python",
   "nbconvert_exporter": "python",
   "pygments_lexer": "ipython2",
   "version": "2.7.16"
  }
 },
 "nbformat": 4,
 "nbformat_minor": 2
}
