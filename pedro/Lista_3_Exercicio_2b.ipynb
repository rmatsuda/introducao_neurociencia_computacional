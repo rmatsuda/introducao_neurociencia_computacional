{
 "cells": [
  {
   "cell_type": "code",
   "execution_count": 1,
   "metadata": {},
   "outputs": [
    {
     "name": "stderr",
     "output_type": "stream",
     "text": [
      "WARNING    \"current\" is an internal variable of group \"neurongroup\", but also exists in the run namespace with the value array([300, 310, 320, ..., 470, 480, 490]). The internal variable will be used. [brian2.groups.group.Group.resolve.resolution_conflict]\n"
     ]
    },
    {
     "name": "stdout",
     "output_type": "stream",
     "text": [
      "Missing compiler_cxx fix for MSVCCompiler\n"
     ]
    },
    {
     "data": {
      "image/png": "[encoded data removed]",
      "text/plain": [
       "<Figure size 432x288 with 1 Axes>"
      ]
     },
     "metadata": {
      "needs_background": "light"
     },
     "output_type": "display_data"
    }
   ],
   "source": [
    "%matplotlib inline\n",
    "import brian2 as b2\n",
    "import matplotlib.pyplot as plt\n",
    "import numpy as np\n",
    "from neurodynex. tools import input_factory, plot_tools\n",
    "from brian2 import *\n",
    "\n",
    "# Descrição dos parâmetros do modelo\n",
    "C = 100*pF; gL = 10*nS; EL = -75*mV; VT = -50*mV; DeltaT = 2*mV; tauw = 200*ms; a = 2*nS; b = 0.02*nA; Vmax = 20*mV; \n",
    "vreset = -80*mV; duration = 5000*ms; w_0 = 0*nA;\n",
    "\n",
    "# Correntes de entrada\n",
    "current = np.arange(300,500,10)\n",
    "\n",
    "\n",
    "# Modelo de Neurônio\n",
    "start_scope()\n",
    "eqs = '''dw/dt=(a*(vm-EL)-w)/tauw : amp\n",
    "         dvm/dt = ((gL*(EL-vm)+gL*DeltaT*exp((vm-VT)/DeltaT) -w + current)/C) : volt\n",
    "         current : amp'''\n",
    "G = NeuronGroup(len(current), eqs,\n",
    "                    threshold='vm > Vmax',\n",
    "                    reset='vm= vreset; w = w + b', method='euler', dt= 0.1*b2.ms)\n",
    "G.vm = EL\n",
    "G.w = w_0\n",
    "G.current = current*b2.pA\n",
    "statemon = b2.StateMonitor(G, [\"vm\",\"w\"], record=True)\n",
    "spikemon = b2.SpikeMonitor(G)\n",
    "\n",
    "# Rodando a simulação\n",
    "b2.run(duration)\n",
    "\n",
    "input_current = [None]*len(current)\n",
    "first_inter = [None]*len(current)\n",
    "stationary_inter = [None]*len(current)\n",
    "for i in range(len(current)):\n",
    "    first_inter[i] = 1/(float(spikemon.spike_trains()[i][2]) - float(spikemon.spike_trains()[i][1]))\n",
    "    stationary_inter[i] = 1/(float(spikemon.spike_trains()[i][-2]) - float(spikemon.spike_trains()[i][-3]))\n",
    "    \n",
    "# Plot\n",
    "plt.plot(G.current/b2.pA, first_inter/b2.second, 'o' , c='C2', lw=3, label='Transient Interval')\n",
    "plt.plot(G.current/b2.pA, stationary_inter/b2.second, label='Stationary Interval')\n",
    "plt.xlabel('I (pA)')\n",
    "plt.ylabel('Firing rate (sp/s)')\n",
    "plt.legend()\n",
    "plt.show()\n",
    "\n"
   ]
  },
  {
   "cell_type": "code",
   "execution_count": null,
   "metadata": {},
   "outputs": [],
   "source": []
  }
 ],
 "metadata": {
  "kernelspec": {
   "display_name": "Python 2",
   "language": "python",
   "name": "python2"
  },
  "language_info": {
   "codemirror_mode": {
    "name": "ipython",
    "version": 2
   },
   "file_extension": ".py",
   "mimetype": "text/x-python",
   "name": "python",
   "nbconvert_exporter": "python",
   "pygments_lexer": "ipython2",
   "version": "2.7.16"
  }
 },
 "nbformat": 4,
 "nbformat_minor": 2
}
