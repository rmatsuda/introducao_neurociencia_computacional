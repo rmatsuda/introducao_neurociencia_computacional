{
 "cells": [
  {
   "cell_type": "code",
   "execution_count": 20,
   "metadata": {},
   "outputs": [
    {
     "name": "stdout",
     "output_type": "stream",
     "text": [
      "Starting simulation at t=0. s for a duration of 10. ms\n",
      "10. ms (100%) simulated in < 1s\n",
      "Starting simulation at t=11. ms for a duration of 30. ms\n",
      "30. ms (100%) simulated in < 1s\n"
     ]
    },
    {
     "data": {
      "image/png": "[encoded data removed]",
      "text/plain": [
       "<Figure size 1080x576 with 1 Axes>"
      ]
     },
     "metadata": {
      "needs_background": "light"
     },
     "output_type": "display_data"
    }
   ],
   "source": [
    "from brian2 import *\n",
    "\n",
    "El = -54.4*mV\n",
    "ENa = 50*mV\n",
    "EK = -77*mV\n",
    "gl = 0.3*msiemens/cm**2\n",
    "gNa0 = 120*msiemens/cm**2\n",
    "gK = 36*msiemens/cm**2\n",
    "\n",
    "Cm=1*uF/cm**2\n",
    "\n",
    "# Typical equations\n",
    "eqs = '''\n",
    "# The same equations for the whole neuron, but possibly different parameter values\n",
    "# distributed transmembrane current\n",
    "dv/dt = (gl*(El-v) - gNa*(m*m*m)*h*(v-ENa) - gK*(n*n*n*n)*(v-EK) + I)/Cm : volt\n",
    "I : amp/meter**2  # applied current\n",
    "dm/dt = alpham * (1-m) - betam * m : 1\n",
    "dn/dt = alphan * (1-n) - betan * n : 1\n",
    "dh/dt = alphah * (1-h) - betah * h : 1\n",
    "alpham = (0.1/mV) * (v+40*mV) / (1-(exp((-(v+40*mV)) / (10*mV))))/ms : Hz\n",
    "betam = 4 * exp((-v-(65*mV))/(18*mV))/ms : Hz\n",
    "alphah = 0.07 * exp((-v-(65*mV))/(20*mV))/ms : Hz\n",
    "betah = 1/((exp((-v-35*mV) / (10*mV))) + 1)/ms : Hz\n",
    "alphan = (0.01/mV) * (v+55*mV) / (1-(exp((-v-55*mV) / (10*mV))))/ms : Hz\n",
    "betan = 0.125*exp((-v-(65*mV))/(80*mV))/ms : Hz\n",
    "gNa : siemens/meter**2\n",
    "'''\n",
    " \n",
    "neuron = NeuronGroup(200, eqs,\n",
    "                    threshold='v > 30*mV', reset = 'v=-65*mV',\n",
    "                    method='euler', dt = 0.025*ms)\n",
    "\n",
    "neuron.v = -65*mV\n",
    "neuron.h = 0.6\n",
    "neuron.m = 0.05\n",
    "neuron.n = 0.32\n",
    "neuron.I = 0\n",
    "neuron.gNa = gNa0\n",
    "M = StateMonitor(neuron, variables=True, record=True)\n",
    "\n",
    "run(10*ms, report='text')\n",
    "neuron.I[0] = 0.05*amp/metre**2  # current injection at one end 5,0; 6,9; 7,0; 10; 20; e 30.\n",
    "run(1*ms)\n",
    "neuron.I = 0*amp/metre**2\n",
    "\n",
    "run(30*ms, report='text')\n",
    "fig = figure(figsize=(15,8))\n",
    "\n",
    "subplot(221)\n",
    "plot(M.t/ms, M.v[0]/mV, c='C1', lw=3, label='v')\n",
    "xlabel('t (ms)')\n",
    "ylabel('V (mV)')\n",
    "plt.legend(loc=1)\n",
    "title('t-V curve')\n",
    "\n",
    "tight_layout()\n",
    "show()\n",
    "\n",
    "\n"
   ]
  },
  {
   "cell_type": "code",
   "execution_count": 19,
   "metadata": {},
   "outputs": [
    {
     "name": "stdout",
     "output_type": "stream",
     "text": [
      "Starting simulation at t=0. s for a duration of 10. ms\n",
      "10. ms (100%) simulated in < 1s\n",
      "Starting simulation at t=11. ms for a duration of 30. ms\n",
      "30. ms (100%) simulated in < 1s\n"
     ]
    },
    {
     "data": {
      "image/png": "[encoded data removed]",
      "text/plain": [
       "<Figure size 1080x576 with 1 Axes>"
      ]
     },
     "metadata": {
      "needs_background": "light"
     },
     "output_type": "display_data"
    }
   ],
   "source": [
    "from brian2 import *\n",
    "\n",
    "El = -54.4*mV\n",
    "ENa = 50*mV\n",
    "EK = -77*mV\n",
    "gl = 0.3*msiemens/cm**2\n",
    "gNa0 = 120*msiemens/cm**2\n",
    "gK = 36*msiemens/cm**2\n",
    "\n",
    "Cm=1*uF/cm**2\n",
    "\n",
    "# Typical equations\n",
    "eqs = '''\n",
    "# The same equations for the whole neuron, but possibly different parameter values\n",
    "# distributed transmembrane current\n",
    "dv/dt = (gl*(El-v) - gNa*(m*m*m)*h*(v-ENa) - gK*(n*n*n*n)*(v-EK) + I)/Cm : volt\n",
    "I : amp/meter**2  # applied current\n",
    "dm/dt = alpham * (1-m) - betam * m : 1\n",
    "dn/dt = alphan * (1-n) - betan * n : 1\n",
    "dh/dt = alphah * (1-h) - betah * h : 1\n",
    "alpham = (0.1/mV) * (v+40*mV) / (1-(exp((-(v+40*mV)) / (10*mV))))/ms : Hz\n",
    "betam = 4 * exp((-v-(65*mV))/(18*mV))/ms : Hz\n",
    "alphah = 0.07 * exp((-v-(65*mV))/(20*mV))/ms : Hz\n",
    "betah = 1/((exp((-v-35*mV) / (10*mV))) + 1)/ms : Hz\n",
    "alphan = (0.01/mV) * (v+55*mV) / (1-(exp((-v-55*mV) / (10*mV))))/ms : Hz\n",
    "betan = 0.125*exp((-v-(65*mV))/(80*mV))/ms : Hz\n",
    "gNa : siemens/meter**2\n",
    "'''\n",
    " \n",
    "neuron = NeuronGroup(200, eqs,\n",
    "                    threshold='v > 30*mV', reset = 'v=-65*mV',\n",
    "                    method='euler', dt = 0.025*ms)\n",
    "\n",
    "neuron.v = -65*mV\n",
    "neuron.h = 0.6\n",
    "neuron.m = 0.05\n",
    "neuron.n = 0.32\n",
    "neuron.I = 0\n",
    "neuron.gNa = gNa0\n",
    "M = StateMonitor(neuron, variables=True, record=True)\n",
    "\n",
    "run(10*ms, report='text')\n",
    "neuron.I[0] = 0.069*amp/metre**2  # current injection at one end 5,0; 6,9; 7,0; 10; 20; e 30.\n",
    "run(1*ms)\n",
    "neuron.I = 0*amp/metre**2\n",
    "\n",
    "run(30*ms, report='text')\n",
    "fig = figure(figsize=(15,8))\n",
    "\n",
    "subplot(221)\n",
    "plot(M.t/ms, M.v[0]/mV, c='C1', lw=3, label='v')\n",
    "xlabel('t (ms)')\n",
    "ylabel('V (mV)')\n",
    "plt.legend(loc=1)\n",
    "title('t-V curve')\n",
    "\n",
    "tight_layout()\n",
    "show()\n"
   ]
  },
  {
   "cell_type": "code",
   "execution_count": 21,
   "metadata": {},
   "outputs": [
    {
     "name": "stdout",
     "output_type": "stream",
     "text": [
      "Starting simulation at t=0. s for a duration of 10. ms\n",
      "10. ms (100%) simulated in < 1s\n",
      "Starting simulation at t=11. ms for a duration of 30. ms\n",
      "30. ms (100%) simulated in < 1s\n"
     ]
    },
    {
     "data": {
      "image/png": "[encoded data removed]",
      "text/plain": [
       "<Figure size 1080x576 with 1 Axes>"
      ]
     },
     "metadata": {
      "needs_background": "light"
     },
     "output_type": "display_data"
    }
   ],
   "source": [
    "from brian2 import *\n",
    "\n",
    "El = -54.4*mV\n",
    "ENa = 50*mV\n",
    "EK = -77*mV\n",
    "gl = 0.3*msiemens/cm**2\n",
    "gNa0 = 120*msiemens/cm**2\n",
    "gK = 36*msiemens/cm**2\n",
    "\n",
    "Cm=1*uF/cm**2\n",
    "\n",
    "# Typical equations\n",
    "eqs = '''\n",
    "# The same equations for the whole neuron, but possibly different parameter values\n",
    "# distributed transmembrane current\n",
    "dv/dt = (gl*(El-v) - gNa*(m*m*m)*h*(v-ENa) - gK*(n*n*n*n)*(v-EK) + I)/Cm : volt\n",
    "I : amp/meter**2  # applied current\n",
    "dm/dt = alpham * (1-m) - betam * m : 1\n",
    "dn/dt = alphan * (1-n) - betan * n : 1\n",
    "dh/dt = alphah * (1-h) - betah * h : 1\n",
    "alpham = (0.1/mV) * (v+40*mV) / (1-(exp((-(v+40*mV)) / (10*mV))))/ms : Hz\n",
    "betam = 4 * exp((-v-(65*mV))/(18*mV))/ms : Hz\n",
    "alphah = 0.07 * exp((-v-(65*mV))/(20*mV))/ms : Hz\n",
    "betah = 1/((exp((-v-35*mV) / (10*mV))) + 1)/ms : Hz\n",
    "alphan = (0.01/mV) * (v+55*mV) / (1-(exp((-v-55*mV) / (10*mV))))/ms : Hz\n",
    "betan = 0.125*exp((-v-(65*mV))/(80*mV))/ms : Hz\n",
    "gNa : siemens/meter**2\n",
    "'''\n",
    " \n",
    "neuron = NeuronGroup(200, eqs,\n",
    "                    threshold='v > 30*mV', reset = 'v=-65*mV',\n",
    "                    method='euler', dt = 0.025*ms)\n",
    "\n",
    "neuron.v = -65*mV\n",
    "neuron.h = 0.6\n",
    "neuron.m = 0.05\n",
    "neuron.n = 0.32\n",
    "neuron.I = 0\n",
    "neuron.gNa = gNa0\n",
    "M = StateMonitor(neuron, variables=True, record=True)\n",
    "\n",
    "run(10*ms, report='text')\n",
    "neuron.I[0] = 0.07*amp/metre**2  # current injection at one end 5,0; 6,9; 7,0; 10; 20; e 30.\n",
    "run(1*ms)\n",
    "neuron.I = 0*amp/metre**2\n",
    "\n",
    "run(30*ms, report='text')\n",
    "fig = figure(figsize=(15,8))\n",
    "\n",
    "subplot(221)\n",
    "plot(M.t/ms, M.v[0]/mV, c='C1', lw=3, label='v')\n",
    "xlabel('t (ms)')\n",
    "ylabel('V (mV)')\n",
    "plt.legend(loc=1)\n",
    "title('t-V curve')\n",
    "\n",
    "tight_layout()\n",
    "show()\n"
   ]
  },
  {
   "cell_type": "code",
   "execution_count": 22,
   "metadata": {},
   "outputs": [
    {
     "name": "stdout",
     "output_type": "stream",
     "text": [
      "Starting simulation at t=0. s for a duration of 10. ms\n",
      "10. ms (100%) simulated in < 1s\n",
      "Starting simulation at t=11. ms for a duration of 30. ms\n",
      "30. ms (100%) simulated in < 1s\n"
     ]
    },
    {
     "data": {
      "image/png": "[encoded data removed]",
      "text/plain": [
       "<Figure size 1080x576 with 1 Axes>"
      ]
     },
     "metadata": {
      "needs_background": "light"
     },
     "output_type": "display_data"
    }
   ],
   "source": [
    "from brian2 import *\n",
    "\n",
    "El = -54.4*mV\n",
    "ENa = 50*mV\n",
    "EK = -77*mV\n",
    "gl = 0.3*msiemens/cm**2\n",
    "gNa0 = 120*msiemens/cm**2\n",
    "gK = 36*msiemens/cm**2\n",
    "\n",
    "Cm=1*uF/cm**2\n",
    "\n",
    "# Typical equations\n",
    "eqs = '''\n",
    "# The same equations for the whole neuron, but possibly different parameter values\n",
    "# distributed transmembrane current\n",
    "dv/dt = (gl*(El-v) - gNa*(m*m*m)*h*(v-ENa) - gK*(n*n*n*n)*(v-EK) + I)/Cm : volt\n",
    "I : amp/meter**2  # applied current\n",
    "dm/dt = alpham * (1-m) - betam * m : 1\n",
    "dn/dt = alphan * (1-n) - betan * n : 1\n",
    "dh/dt = alphah * (1-h) - betah * h : 1\n",
    "alpham = (0.1/mV) * (v+40*mV) / (1-(exp((-(v+40*mV)) / (10*mV))))/ms : Hz\n",
    "betam = 4 * exp((-v-(65*mV))/(18*mV))/ms : Hz\n",
    "alphah = 0.07 * exp((-v-(65*mV))/(20*mV))/ms : Hz\n",
    "betah = 1/((exp((-v-35*mV) / (10*mV))) + 1)/ms : Hz\n",
    "alphan = (0.01/mV) * (v+55*mV) / (1-(exp((-v-55*mV) / (10*mV))))/ms : Hz\n",
    "betan = 0.125*exp((-v-(65*mV))/(80*mV))/ms : Hz\n",
    "gNa : siemens/meter**2\n",
    "'''\n",
    " \n",
    "neuron = NeuronGroup(200, eqs,\n",
    "                    threshold='v > 30*mV', reset = 'v=-65*mV',\n",
    "                    method='euler', dt = 0.025*ms)\n",
    "\n",
    "neuron.v = -65*mV\n",
    "neuron.h = 0.6\n",
    "neuron.m = 0.05\n",
    "neuron.n = 0.32\n",
    "neuron.I = 0\n",
    "neuron.gNa = gNa0\n",
    "M = StateMonitor(neuron, variables=True, record=True)\n",
    "\n",
    "run(10*ms, report='text')\n",
    "neuron.I[0] = 0.1*amp/metre**2  # current injection at one end 5,0; 6,9; 7,0; 10; 20; e 30.\n",
    "run(1*ms)\n",
    "neuron.I = 0*amp/metre**2\n",
    "\n",
    "run(30*ms, report='text')\n",
    "fig = figure(figsize=(15,8))\n",
    "\n",
    "subplot(221)\n",
    "plot(M.t/ms, M.v[0]/mV, c='C1', lw=3, label='v')\n",
    "xlabel('t (ms)')\n",
    "ylabel('V (mV)')\n",
    "plt.legend(loc=1)\n",
    "title('t-V curve')\n",
    "\n",
    "tight_layout()\n",
    "show()\n"
   ]
  },
  {
   "cell_type": "code",
   "execution_count": 23,
   "metadata": {},
   "outputs": [
    {
     "name": "stdout",
     "output_type": "stream",
     "text": [
      "Starting simulation at t=0. s for a duration of 10. ms\n",
      "10. ms (100%) simulated in < 1s\n",
      "Starting simulation at t=11. ms for a duration of 30. ms\n",
      "30. ms (100%) simulated in < 1s\n"
     ]
    },
    {
     "data": {
      "image/png": "[encoded data removed]",
      "text/plain": [
       "<Figure size 1080x576 with 1 Axes>"
      ]
     },
     "metadata": {
      "needs_background": "light"
     },
     "output_type": "display_data"
    }
   ],
   "source": [
    "from brian2 import *\n",
    "\n",
    "El = -54.4*mV\n",
    "ENa = 50*mV\n",
    "EK = -77*mV\n",
    "gl = 0.3*msiemens/cm**2\n",
    "gNa0 = 120*msiemens/cm**2\n",
    "gK = 36*msiemens/cm**2\n",
    "\n",
    "Cm=1*uF/cm**2\n",
    "\n",
    "# Typical equations\n",
    "eqs = '''\n",
    "# The same equations for the whole neuron, but possibly different parameter values\n",
    "# distributed transmembrane current\n",
    "dv/dt = (gl*(El-v) - gNa*(m*m*m)*h*(v-ENa) - gK*(n*n*n*n)*(v-EK) + I)/Cm : volt\n",
    "I : amp/meter**2  # applied current\n",
    "dm/dt = alpham * (1-m) - betam * m : 1\n",
    "dn/dt = alphan * (1-n) - betan * n : 1\n",
    "dh/dt = alphah * (1-h) - betah * h : 1\n",
    "alpham = (0.1/mV) * (v+40*mV) / (1-(exp((-(v+40*mV)) / (10*mV))))/ms : Hz\n",
    "betam = 4 * exp((-v-(65*mV))/(18*mV))/ms : Hz\n",
    "alphah = 0.07 * exp((-v-(65*mV))/(20*mV))/ms : Hz\n",
    "betah = 1/((exp((-v-35*mV) / (10*mV))) + 1)/ms : Hz\n",
    "alphan = (0.01/mV) * (v+55*mV) / (1-(exp((-v-55*mV) / (10*mV))))/ms : Hz\n",
    "betan = 0.125*exp((-v-(65*mV))/(80*mV))/ms : Hz\n",
    "gNa : siemens/meter**2\n",
    "'''\n",
    " \n",
    "neuron = NeuronGroup(200, eqs,\n",
    "                    threshold='v > 30*mV', reset = 'v=-65*mV',\n",
    "                    method='euler', dt = 0.025*ms)\n",
    "\n",
    "neuron.v = -65*mV\n",
    "neuron.h = 0.6\n",
    "neuron.m = 0.05\n",
    "neuron.n = 0.32\n",
    "neuron.I = 0\n",
    "neuron.gNa = gNa0\n",
    "M = StateMonitor(neuron, variables=True, record=True)\n",
    "\n",
    "run(10*ms, report='text')\n",
    "neuron.I[0] = 0.2*amp/metre**2  # current injection at one end 5,0; 6,9; 7,0; 10; 20; e 30.\n",
    "run(1*ms)\n",
    "neuron.I = 0*amp/metre**2\n",
    "\n",
    "run(30*ms, report='text')\n",
    "fig = figure(figsize=(15,8))\n",
    "\n",
    "subplot(221)\n",
    "plot(M.t/ms, M.v[0]/mV, c='C1', lw=3, label='v')\n",
    "xlabel('t (ms)')\n",
    "ylabel('V (mV)')\n",
    "plt.legend(loc=1)\n",
    "title('t-V curve')\n",
    "\n",
    "tight_layout()\n",
    "show()\n"
   ]
  },
  {
   "cell_type": "code",
   "execution_count": 26,
   "metadata": {},
   "outputs": [
    {
     "name": "stdout",
     "output_type": "stream",
     "text": [
      "Starting simulation at t=0. s for a duration of 10. ms\n",
      "10. ms (100%) simulated in < 1s\n",
      "Starting simulation at t=11. ms for a duration of 30. ms\n",
      "30. ms (100%) simulated in < 1s\n"
     ]
    },
    {
     "data": {
      "image/png": "[encoded data removed]",
      "text/plain": [
       "<Figure size 1080x576 with 1 Axes>"
      ]
     },
     "metadata": {
      "needs_background": "light"
     },
     "output_type": "display_data"
    }
   ],
   "source": [
    "from brian2 import *\n",
    "\n",
    "El = -54.4*mV\n",
    "ENa = 50*mV\n",
    "EK = -77*mV\n",
    "gl = 0.3*msiemens/cm**2\n",
    "gNa0 = 120*msiemens/cm**2\n",
    "gK = 36*msiemens/cm**2\n",
    "\n",
    "Cm=1*uF/cm**2\n",
    "\n",
    "# Typical equations\n",
    "eqs = '''\n",
    "# The same equations for the whole neuron, but possibly different parameter values\n",
    "# distributed transmembrane current\n",
    "dv/dt = (gl*(El-v) - gNa*(m*m*m)*h*(v-ENa) - gK*(n*n*n*n)*(v-EK) + I)/Cm : volt\n",
    "I : amp/meter**2  # applied current\n",
    "dm/dt = alpham * (1-m) - betam * m : 1\n",
    "dn/dt = alphan * (1-n) - betan * n : 1\n",
    "dh/dt = alphah * (1-h) - betah * h : 1\n",
    "alpham = (0.1/mV) * (v+40*mV) / (1-(exp((-(v+40*mV)) / (10*mV))))/ms : Hz\n",
    "betam = 4 * exp((-v-(65*mV))/(18*mV))/ms : Hz\n",
    "alphah = 0.07 * exp((-v-(65*mV))/(20*mV))/ms : Hz\n",
    "betah = 1/((exp((-v-35*mV) / (10*mV))) + 1)/ms : Hz\n",
    "alphan = (0.01/mV) * (v+55*mV) / (1-(exp((-v-55*mV) / (10*mV))))/ms : Hz\n",
    "betan = 0.125*exp((-v-(65*mV))/(80*mV))/ms : Hz\n",
    "gNa : siemens/meter**2\n",
    "'''\n",
    " \n",
    "neuron = NeuronGroup(200, eqs,\n",
    "                    threshold='v > 30*mV', reset = 'v=-65*mV',\n",
    "                    method='euler', dt = 0.025*ms)\n",
    "\n",
    "neuron.v = -65*mV\n",
    "neuron.h = 0.6\n",
    "neuron.m = 0.05\n",
    "neuron.n = 0.32\n",
    "neuron.I = 0\n",
    "neuron.gNa = gNa0\n",
    "M = StateMonitor(neuron, variables=True, record=True)\n",
    "\n",
    "run(10*ms, report='text')\n",
    "neuron.I[0] = 0.3*amp/metre**2  # current injection at one end 5,0; 6,9; 7,0; 10; 20; e 30.\n",
    "run(1*ms)\n",
    "neuron.I = 0*amp/metre**2\n",
    "\n",
    "run(30*ms, report='text')\n",
    "fig = figure(figsize=(15,8))\n",
    "\n",
    "subplot(221)\n",
    "plot(M.t/ms, M.v[0]/mV, c='C1', lw=3, label='v')\n",
    "xlabel('t (ms)')\n",
    "ylabel('V (mV)')\n",
    "plt.legend(loc=1)\n",
    "title('t-V curve')\n",
    "\n",
    "tight_layout()\n",
    "show()\n"
   ]
  },
  {
   "cell_type": "code",
   "execution_count": null,
   "metadata": {},
   "outputs": [],
   "source": []
  }
 ],
 "metadata": {
  "kernelspec": {
   "display_name": "Python 2",
   "language": "python",
   "name": "python2"
  },
  "language_info": {
   "codemirror_mode": {
    "name": "ipython",
    "version": 2
   },
   "file_extension": ".py",
   "mimetype": "text/x-python",
   "name": "python",
   "nbconvert_exporter": "python",
   "pygments_lexer": "ipython2",
   "version": "2.7.16"
  }
 },
 "nbformat": 4,
 "nbformat_minor": 2
}
