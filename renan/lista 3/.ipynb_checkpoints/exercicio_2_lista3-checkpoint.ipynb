{
 "cells": [
  {
   "cell_type": "code",
   "execution_count": null,
   "metadata": {
    "pycharm": {
     "is_executing": false,
     "metadata": false,
     "name": "#%%\n"
    }
   },
   "outputs": [],
   "source": [
    "%matplotlib inline\n",
    "import brian2 as b2\n",
    "import matplotlib.pyplot as plt\n",
    "import numpy as np\n",
    "from neurodynex. tools import input_factory\n"
   ]
  },
  {
   "cell_type": "code",
   "execution_count": null,
   "metadata": {
    "pycharm": {
     "is_executing": false,
     "metadata": false,
     "name": "#%%\n"
    }
   },
   "outputs": [],
   "source": [
    "v_rest= -75*b2.mV #EL\n",
    "v_reset= -80*b2.mV #Vreset\n",
    "conductance_L = 10*b2.nsiemens #GL\n",
    "membrane_capacitance = 100*b2.pF #CM\n",
    "firing_threshold = -50 * b2.mV #Vth\n",
    "deltaVth = 2*b2.mV\n",
    "\n",
    "a = 2*b2.nsiemens\n",
    "b = 0.02*b2.nA\n",
    "\n",
    "tau_w = 200*b2.ms\n",
    "v_max = 20*b2.mV\n",
    "\n",
    "simulation_time = 1500\n",
    "dt =  0.01*b2.ms \n",
    "\n",
    "#current = 200.01 * b2.pamp\n",
    "current = 500\n",
    "input_current = input_factory.get_step_current(\n",
    "t_start=500, t_end=1000, unit_time=b2.ms,\n",
    "amplitude=current*b2.pA) \n",
    "\n",
    "# differential equation of Leaky Integrate-and-Fire model\n",
    "eqs = \"\"\"\n",
    "\n",
    "dv/dt = (conductance_L/membrane_capacitance)*\n",
    "        (v_rest - v + deltaVth*exp((v-firing_threshold)/deltaVth))\n",
    "        - (w/membrane_capacitance)\n",
    "        + (input_current(t,i)/membrane_capacitance) : volt\n",
    "dw/dt = (a*(v-v_rest)-w)/tau_w :  amp\n",
    "\"\"\"\n",
    "neuron = b2.NeuronGroup(1, model=eqs, reset=\"v=v_reset; w=w+b\",\n",
    "                        threshold=\"v>v_max\", method=\"euler\", dt=dt)\n",
    "neuron.v = v_rest\n",
    "neuron.w = 0*b2.pA\n",
    "\n",
    "# monitoring membrane potential of neuron and injecting current\n",
    "state_monitor = b2.StateMonitor(neuron, [\"v\", \"w\"], record=True)\n",
    "spike_monitor = b2.SpikeMonitor(neuron)\n",
    "# run the simulation\n",
    "b2.run(simulation_time*b2.ms)\n",
    "\n",
    "print(\"nr of spikes: {}\".format(spike_monitor.count[0]))\n",
    "#print(\"spikes times: {}\".format(spike_monitor.t[:]))"
   ]
  },
  {
   "cell_type": "code",
   "execution_count": null,
   "metadata": {},
   "outputs": [],
   "source": [
    "#plot\n",
    "fig = plt.figure(figsize=(10,10))\n",
    "\n",
    "fig.add_subplot(3,1,1)\n",
    "c = input_current(state_monitor.t, 0)\n",
    "plt.plot(state_monitor.t/b2.ms, c/b2.pA )\n",
    "plt.ylabel('Iapp (pA)')\n",
    "plt.grid()\n",
    "\n",
    "fig.add_subplot(3,1,2)\n",
    "plt.plot(state_monitor.t/b2.ms, state_monitor.v[0]/b2.mV)\n",
    "\n",
    "plt.ylabel('Potencial de membrana (mV)')\n",
    "plt.grid()\n",
    "#plt.legend([\"vm\", \"firing threshold\"], fontsize=12)\n",
    "\n",
    "fig.add_subplot(3,1,3)\n",
    "plt.plot(state_monitor.t/b2.ms, state_monitor.w[0]/b2.pA)\n",
    "plt.grid()\n",
    "plt.xlabel('Tempo (s)')\n",
    "plt.ylabel('Corrente de adaptacao w (pA)')\n",
    "\n",
    "plt.show()"
   ]
  },
  {
   "cell_type": "code",
   "execution_count": null,
   "metadata": {
    "pycharm": {
     "is_executing": true,
     "metadata": false,
     "name": "#%%\n"
    }
   },
   "outputs": [
    {
     "name": "stderr",
     "output_type": "stream",
     "text": [
      "WARNING    \"input_current\" is an internal variable of group \"neurongroup\", but also exists in the run namespace with the value array([300, 310, 320, ..., 570, 580, 590]). The internal variable will be used. [brian2.groups.group.Group.resolve.resolution_conflict]\n"
     ]
    }
   ],
   "source": [
    "v_rest= -75*b2.mV #EL\n",
    "v_reset= -80*b2.mV #Vreset\n",
    "conductance_L = 10*b2.nsiemens #GL\n",
    "membrane_capacitance = 100*b2.pF #CM\n",
    "firing_threshold = -50 * b2.mV #Vth\n",
    "deltaVth = 2*b2.mV\n",
    "\n",
    "a = 2*b2.nsiemens\n",
    "b = 0.02*b2.nA\n",
    "\n",
    "tau_w = 200*b2.ms\n",
    "v_max = 20*b2.mV\n",
    "\n",
    "simulation_time = 5\n",
    "\n",
    "input_current = np.arange(300, 600, 10)\n",
    "\n",
    "eqs = \"\"\"\n",
    "dv/dt = (conductance_L/membrane_capacitance)*\n",
    "        (v_rest - v + deltaVth*exp((v-firing_threshold)/deltaVth))\n",
    "        - (w/membrane_capacitance)\n",
    "        + (input_current/membrane_capacitance) : volt\n",
    "dw/dt = (a/tau_w) * (v - v_rest) - (w/tau_w) : ampere\n",
    "input_current : amp\n",
    "\"\"\"\n",
    "neuron = b2.NeuronGroup(len(input_current), model=eqs, \n",
    "                        reset=\"v=v_reset; w=w+b\", \n",
    "                        threshold=\"v>v_max\", method=\"euler\")\n",
    "neuron.v = v_rest\n",
    "neuron.w = 0*b2.pA\n",
    "neuron.input_current = input_current*b2.pA\n",
    "\n",
    "# monitoring membrane potential of neuron and injecting current\n",
    "state_monitor = b2.StateMonitor(neuron, [\"v\",\"w\"], record=True)\n",
    "spike_monitor = b2.SpikeMonitor(neuron)\n",
    "# run the simulation\n",
    "b2.run(simulation_time*b2.second)\n",
    "\n"
   ]
  },
  {
   "cell_type": "code",
   "execution_count": null,
   "metadata": {},
   "outputs": [],
   "source": [
    "#plot\n",
    "plt.figure(1)\n",
    "\n",
    "first_inter = [None]*len(current)\n",
    "stationary_inter = [None]*len(current)\n",
    "for i in range(len(current)):\n",
    "    first_inter[i] = 1/(float(spike_monitor.spike_trains()[i][2])\n",
    "                        - float(spike_monitor.spike_trains()[i][1]))\n",
    "    \n",
    "    stationary_inter[i] = 1/(float(spike_monitor.spike_trains()[i][-2])\n",
    "                             - float(spike_monitor.spike_trains()[i][-3]))\n",
    "\n",
    "#plt.plot(neuron.current/b2.pA, spike_monitor.count/simulation_time, '*', label='count')\n",
    "plt.plot(neuron.current/b2.pA, first_inter/b2.second, 'o', label='first_inter')\n",
    "plt.plot(neuron.current/b2.pA, stationary_inter/b2.second, label='stationary_inter')\n",
    "plt.xlabel('I (nA)')\n",
    "plt.ylabel('Firing rate (sp/s)')\n",
    "plt.legend()\n",
    "plt.grid()\n",
    "plt.show()"
   ]
  }
 ],
 "metadata": {
  "kernelspec": {
   "display_name": "Python 2",
   "language": "python",
   "name": "python2"
  },
  "language_info": {
   "codemirror_mode": {
    "name": "ipython",
    "version": 2
   },
   "file_extension": ".py",
   "mimetype": "text/x-python",
   "name": "python",
   "nbconvert_exporter": "python",
   "pygments_lexer": "ipython2",
   "version": "2.7.16"
  },
  "stem_cell": {
   "cell_type": "raw",
   "metadata": {
    "pycharm": {
     "metadata": false
    }
   },
   "source": ""
  }
 },
 "nbformat": 4,
 "nbformat_minor": 1
}
