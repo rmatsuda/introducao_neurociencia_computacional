{
 "cells": [
  {
   "cell_type": "code",
   "execution_count": null,
   "metadata": {
    "pycharm": {
     "is_executing": false,
     "metadata": false,
     "name": "#%%\n"
    }
   },
   "outputs": [],
   "source": [
    "%matplotlib inline\n",
    "import brian2 as b2\n",
    "import matplotlib.pyplot as plt\n",
    "import numpy as np\n",
    "from neurodynex.leaky_integrate_and_fire import LIF\n",
    "from neurodynex. tools import input_factory, plot_tools\n",
    "\n",
    "v_rest= -70*b2.mV\n",
    "v_reset= -65*b2.mV\n",
    "membrane_resistance = 5 * b2.Mohm\n",
    "membrane_capacitance = 2*b2.nF\n",
    "firing_threshold = -50 * b2.mV\n",
    "\n",
    "simulation_time = 200\n",
    "dt =  0.1 * b2.ms \n",
    "\n",
    "current = [4.00001, 4.05, 4.1, 4.2, 4.3, 5., 5.2, 5.4, 5.6, 5.7]\n",
    "\n",
    "N = len(current)\n",
    "\n",
    "eqs = '''\n",
    "dv/dt =\n",
    "( (v_rest-v)/(membrane_capacitance * membrane_resistance) ) + \n",
    "(current/membrane_capacitance) +\n",
    "(current*sigma*xi*dt**0.5/membrane_capacitance)  : volt \n",
    "current : amp\n",
    "'''\n",
    "    \n",
    "plt.figure(1)\n",
    "sigma = np.arange(0, 10, 0.01)\n",
    "    \n",
    "for sigma in sigma:\n",
    "    neuron = b2.NeuronGroup(N, model=eqs, reset=\"v=v_reset\", threshold=\"v>firing_threshold\",\n",
    "        refractory=False, method=\"euler\", dt = dt)\n",
    "    neuron.v = v_rest\n",
    "    neuron.current = current*b2.nA\n",
    "    \n",
    "    state_monitor = b2.StateMonitor(neuron, [\"v\"], record=True)\n",
    "    spike_monitor = b2.SpikeMonitor(neuron)\n",
    "    b2.run(simulation_time*b2.ms)\n",
    "    \n",
    "    plt.plot(neuron.current /b2.nA, spike_monitor.count*1000/simulation_time, \n",
    "             label = \"Sigma: {}\".format(sigma))\n",
    "    \n",
    "plt.xlabel('I (nA)')\n",
    "plt.ylabel('Firing rate (sp/s)')\n",
    "#plt.legend()\n",
    "plt.show()\n",
    "\n",
    "# gráfico para verificar o comportamento da curva F-I para diferentes valores de sigma\n"
   ]
  },
  {
   "cell_type": "code",
   "execution_count": 5,
   "metadata": {
    "pycharm": {
     "is_executing": false,
     "metadata": false,
     "name": "#%%\n"
    },
    "scrolled": false
   },
   "outputs": [
    {
     "data": {
      "image/png": "[encoded data removed]",
      "text/plain": [
       "<Figure size 432x288 with 1 Axes>"
      ]
     },
     "metadata": {
      "needs_background": "light"
     },
     "output_type": "display_data"
    }
   ],
   "source": [
    "# Exercício 2A: a. Faça o gráfico de F-I para o modelo com ruído para dois valores \n",
    "# diferentes de  σ . Para fazer isso, vá aumentando o valor de σ  a partir de zero\n",
    "# até notar que a curva F-I começa a ficar diferente da curva para σ = 0.\n",
    "# Este será o seu primeiro valor de σ . Depois, continue aumentando \n",
    "# σ até notar outra mudança significativa na curva F-I. Este será o seu segundo valor de σ.\n",
    "# Apresente os gráficos de F-I para os dois valores de σ e explique o que é observado.\n",
    "\n",
    "%matplotlib inline\n",
    "import brian2 as b2\n",
    "import matplotlib.pyplot as plt\n",
    "import numpy as np\n",
    "from neurodynex.leaky_integrate_and_fire import LIF\n",
    "from neurodynex. tools import input_factory, plot_tools\n",
    "\n",
    "v_rest= -70*b2.mV\n",
    "v_reset= -65*b2.mV\n",
    "membrane_resistance = 5 * b2.Mohm\n",
    "membrane_capacitance = 2*b2.nF\n",
    "firing_threshold = -50 * b2.mV\n",
    "\n",
    "simulation_time = 200\n",
    "dt =  0.1 * b2.ms \n",
    "\n",
    "current = [4.00001, 4.05, 4.1, 4.2, 4.3, 5., 5.2, 5.4, 5.6, 5.7]\n",
    "\n",
    "N = len(current)\n",
    "\n",
    "eqs = '''\n",
    "dv/dt =\n",
    "( (v_rest-v)/(membrane_capacitance * membrane_resistance) ) + \n",
    "(current/membrane_capacitance) + \n",
    "(current*sigma*xi*dt**0.5/membrane_capacitance)  : volt \n",
    "current : amp\n",
    "'''\n",
    "    \n",
    "plt.figure(1)\n",
    "sigma = [0, 0.1, 3,10]\n",
    "    \n",
    "for sigma in sigma:\n",
    "    neuron = b2.NeuronGroup(N, model=eqs, reset=\"v=v_reset\", threshold=\"v>firing_threshold\",\n",
    "        refractory=False, method=\"euler\", dt = dt)\n",
    "    neuron.v = v_rest\n",
    "    neuron.current = current*b2.nA\n",
    "    \n",
    "    state_monitor = b2.StateMonitor(neuron, [\"v\"], record=True)\n",
    "    spike_monitor = b2.SpikeMonitor(neuron)\n",
    "    b2.run(simulation_time*b2.ms)\n",
    "    \n",
    "    plt.plot(neuron.current /b2.nA, spike_monitor.count*1000/simulation_time, \n",
    "             label = \"Sigma: {}\".format(sigma))\n",
    "    \n",
    "plt.xlabel('I (nA)')\n",
    "plt.ylabel('Firing rate (sp/s)')\n",
    "plt.legend()\n",
    "plt.title( \"lista 1 exercicio 2A\")\n",
    "plt.show()\n",
    "\n",
    "# Conclusão: Com o aumento do valor de sigma, a curva de F-I tende a aumentar\n",
    "# a frequência de disparo e também aumentar sua flutuabilidade."
   ]
  },
  {
   "cell_type": "code",
   "execution_count": null,
   "metadata": {
    "pycharm": {
     "is_executing": false,
     "metadata": false,
     "name": "#%%\n"
    }
   },
   "outputs": [],
   "source": [
    "\n",
    "\n",
    "%matplotlib inline\n",
    "import brian2 as b2\n",
    "import matplotlib.pyplot as plt\n",
    "import numpy as np\n",
    "from neurodynex.leaky_integrate_and_fire import LIF\n",
    "from neurodynex. tools import input_factory, plot_tools\n",
    "\n",
    "v_rest= -70*b2.mV\n",
    "v_reset= -65*b2.mV\n",
    "membrane_resistance = 5 * b2.Mohm\n",
    "membrane_capacitance = 2*b2.nF\n",
    "firing_threshold = -50 * b2.mV\n",
    "\n",
    "simulation_time = 200\n",
    "dt =  0.01 * b2.ms \n",
    "\n",
    "current = [4.00001, 4.05, 4.1, 4.2, 4.3, 5., 5.2, 5.4, 5.6, 5.7]\n",
    "\n",
    "sigma = [0, 0.1, 3, 10]\n",
    "\n",
    "N = len(current)\n",
    "\n",
    "eqs = '''\n",
    "dv/dt =\n",
    "( (v_rest-v)/(membrane_capacitance * membrane_resistance) ) +\n",
    "(current/membrane_capacitance) + \n",
    "(current*sigma*xi*dt**0.5/membrane_capacitance)  : volt \n",
    "current : amp\n",
    "'''\n",
    "    \n",
    "for sigma in sigma:\n",
    "    neuron = b2.NeuronGroup(N, model=eqs, reset=\"v=v_reset\", threshold=\"v>firing_threshold\",\n",
    "        refractory=False, method=\"euler\", dt = dt)\n",
    "    neuron.v = v_rest\n",
    "    neuron.current = current*b2.nA\n",
    "    \n",
    "    state_monitor = b2.StateMonitor(neuron, [\"v\"], record=True)\n",
    "    spike_monitor = b2.SpikeMonitor(neuron)\n",
    "    b2.run(simulation_time*b2.ms)\n",
    "    \n",
    "    plt.plot(neuron.current /b2.nA, spike_monitor.count*1000/simulation_time, \n",
    "             label = \"Sigma: {}\".format(sigma))\n",
    "    \n",
    "plt.xlabel('I (nA)')\n",
    "plt.ylabel('Firing rate (sp/s)')\n",
    "plt.legend()\n",
    "plt.title( \"lista 1 exercicio 2B\")\n",
    "plt.show()\n",
    "\n",
    "# Conclusão: Com o valor dt menor, 0.01ms, as curvas ficaram mais suavizadas e \n",
    "# a frequência de disparos de sigma = 10 diminui. Aparementemente os resultados\n",
    "# foram diferentes. \n"
   ]
  }
 ],
 "metadata": {
  "kernelspec": {
   "display_name": "Python 2",
   "language": "python",
   "name": "python2"
  },
  "language_info": {
   "codemirror_mode": {
    "name": "ipython",
    "version": 2
   },
   "file_extension": ".py",
   "mimetype": "text/x-python",
   "name": "python",
   "nbconvert_exporter": "python",
   "pygments_lexer": "ipython2",
   "version": "2.7.16"
  },
  "stem_cell": {
   "cell_type": "raw",
   "metadata": {
    "pycharm": {
     "metadata": false
    }
   },
   "source": ""
  }
 },
 "nbformat": 4,
 "nbformat_minor": 1
}
