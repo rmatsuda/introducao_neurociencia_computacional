{
  "cells": [
    {
      "cell_type": "code",
      "execution_count": 7,
      "outputs": [
        {
          "ename": "ValueError",
          "evalue": "could not broadcast input array from shape (1003) into shape (10)",
          "traceback": [
            "\u001b[1;31m\u001b[0m",
            "\u001b[1;31mValueError\u001b[0mTraceback (most recent call last)",
            "\u001b[1;32m\u003cipython-input-7-2e182b2511df\u003e\u001b[0m in \u001b[0;36m\u003cmodule\u003e\u001b[1;34m()\u001b[0m\n\u001b[0;32m     27\u001b[0m \u001b[0mdv\u001b[0m\u001b[1;33m/\u001b[0m\u001b[0mdt\u001b[0m \u001b[1;33m\u003d\u001b[0m \u001b[1;33m-\u001b[0m\u001b[0mv\u001b[0m\u001b[1;33m/\u001b[0m\u001b[0mtau\u001b[0m \u001b[1;33m:\u001b[0m \u001b[1;36m1\u001b[0m\u001b[1;33m\u001b[0m\u001b[0m\n\u001b[0;32m     28\u001b[0m \u0027\u0027\u0027\n\u001b[1;32m---\u003e 29\u001b[1;33m \u001b[0mP\u001b[0m \u001b[1;33m\u003d\u001b[0m \u001b[0mPoissonGroup\u001b[0m\u001b[1;33m(\u001b[0m\u001b[0mnum_inputs\u001b[0m\u001b[1;33m,\u001b[0m \u001b[0mrates\u001b[0m\u001b[1;33m\u003d\u001b[0m\u001b[0minput_rate\u001b[0m\u001b[1;33m,\u001b[0m \u001b[0mdt\u001b[0m \u001b[1;33m\u003d\u001b[0m \u001b[1;36m0.01\u001b[0m\u001b[1;33m*\u001b[0m\u001b[0mms\u001b[0m\u001b[1;33m)\u001b[0m\u001b[1;33m\u001b[0m\u001b[0m\n\u001b[0m\u001b[0;32m     30\u001b[0m \u001b[0mG\u001b[0m \u001b[1;33m\u003d\u001b[0m \u001b[0mNeuronGroup\u001b[0m\u001b[1;33m(\u001b[0m\u001b[1;36m1\u001b[0m\u001b[1;33m,\u001b[0m \u001b[0meqs\u001b[0m\u001b[1;33m,\u001b[0m \u001b[0mthreshold\u001b[0m\u001b[1;33m\u003d\u001b[0m\u001b[1;34m\u0027v\u003e1\u0027\u001b[0m\u001b[1;33m,\u001b[0m \u001b[0mreset\u001b[0m\u001b[1;33m\u003d\u001b[0m\u001b[1;34m\u0027v\u003d0\u0027\u001b[0m\u001b[1;33m,\u001b[0m \u001b[0mmethod\u001b[0m\u001b[1;33m\u003d\u001b[0m\u001b[1;34m\u0027exact\u0027\u001b[0m\u001b[1;33m)\u001b[0m\u001b[1;33m\u001b[0m\u001b[0m\n\u001b[0;32m     31\u001b[0m \u001b[1;33m\u001b[0m\u001b[0m\n",
            "\u001b[1;32mD:\\Programas\\Miniconda2\\envs\\bmnn\\lib\\site-packages\\brian2\\units\\fundamentalunits.pyc\u001b[0m in \u001b[0;36mnew_f\u001b[1;34m(*args, **kwds)\u001b[0m\n\u001b[0;32m   2373\u001b[0m                                                      get_dimensions(newkeyset[k]))\n\u001b[0;32m   2374\u001b[0m \u001b[1;33m\u001b[0m\u001b[0m\n\u001b[1;32m-\u003e 2375\u001b[1;33m             \u001b[0mresult\u001b[0m \u001b[1;33m\u003d\u001b[0m \u001b[0mf\u001b[0m\u001b[1;33m(\u001b[0m\u001b[1;33m*\u001b[0m\u001b[0margs\u001b[0m\u001b[1;33m,\u001b[0m \u001b[1;33m**\u001b[0m\u001b[0mkwds\u001b[0m\u001b[1;33m)\u001b[0m\u001b[1;33m\u001b[0m\u001b[0m\n\u001b[0m\u001b[0;32m   2376\u001b[0m             \u001b[1;32mif\u001b[0m \u001b[1;34m\u0027result\u0027\u001b[0m \u001b[1;32min\u001b[0m \u001b[0mau\u001b[0m\u001b[1;33m:\u001b[0m\u001b[1;33m\u001b[0m\u001b[0m\n\u001b[0;32m   2377\u001b[0m                 \u001b[1;32mif\u001b[0m \u001b[0mau\u001b[0m\u001b[1;33m[\u001b[0m\u001b[1;34m\u0027result\u0027\u001b[0m\u001b[1;33m]\u001b[0m \u001b[1;33m\u003d\u003d\u001b[0m \u001b[0mbool\u001b[0m\u001b[1;33m:\u001b[0m\u001b[1;33m\u001b[0m\u001b[0m\n",
            "\u001b[1;32mD:\\Programas\\Miniconda2\\envs\\bmnn\\lib\\site-packages\\brian2\\input\\poissongroup.pyc\u001b[0m in \u001b[0;36m__init__\u001b[1;34m(self, N, rates, dt, clock, when, order, namespace, name, codeobj_class)\u001b[0m\n\u001b[0;32m     99\u001b[0m \u001b[1;33m\u001b[0m\u001b[0m\n\u001b[0;32m    100\u001b[0m         \u001b[1;32mif\u001b[0m \u001b[1;32mnot\u001b[0m \u001b[0misinstance\u001b[0m\u001b[1;33m(\u001b[0m\u001b[0mrates\u001b[0m\u001b[1;33m,\u001b[0m \u001b[0mbasestring\u001b[0m\u001b[1;33m)\u001b[0m\u001b[1;33m:\u001b[0m\u001b[1;33m\u001b[0m\u001b[0m\n\u001b[1;32m--\u003e 101\u001b[1;33m             \u001b[0mself\u001b[0m\u001b[1;33m.\u001b[0m\u001b[0mrates\u001b[0m \u001b[1;33m\u003d\u001b[0m \u001b[0mrates\u001b[0m\u001b[1;33m\u001b[0m\u001b[0m\n\u001b[0m\u001b[0;32m    102\u001b[0m \u001b[1;33m\u001b[0m\u001b[0m\n\u001b[0;32m    103\u001b[0m     \u001b[1;32mdef\u001b[0m \u001b[0m__getitem__\u001b[0m\u001b[1;33m(\u001b[0m\u001b[0mself\u001b[0m\u001b[1;33m,\u001b[0m \u001b[0mitem\u001b[0m\u001b[1;33m)\u001b[0m\u001b[1;33m:\u001b[0m\u001b[1;33m\u001b[0m\u001b[0m\n",
            "\u001b[1;32mD:\\Programas\\Miniconda2\\envs\\bmnn\\lib\\site-packages\\brian2\\groups\\group.pyc\u001b[0m in \u001b[0;36m__setattr__\u001b[1;34m(self, name, val, level)\u001b[0m\n\u001b[0;32m    423\u001b[0m             var.get_addressable_value_with_unit(name, self).set_item(slice(None),\n\u001b[0;32m    424\u001b[0m                                                                      \u001b[0mval\u001b[0m\u001b[1;33m,\u001b[0m\u001b[1;33m\u001b[0m\u001b[0m\n\u001b[1;32m--\u003e 425\u001b[1;33m                                                                      level\u003dlevel+1)\n\u001b[0m\u001b[0;32m    426\u001b[0m         \u001b[1;32melif\u001b[0m \u001b[0mlen\u001b[0m\u001b[1;33m(\u001b[0m\u001b[0mname\u001b[0m\u001b[1;33m)\u001b[0m \u001b[1;32mand\u001b[0m \u001b[0mname\u001b[0m\u001b[1;33m[\u001b[0m\u001b[1;33m-\u001b[0m\u001b[1;36m1\u001b[0m\u001b[1;33m]\u001b[0m\u001b[1;33m\u003d\u003d\u001b[0m\u001b[1;34m\u0027_\u0027\u001b[0m \u001b[1;32mand\u001b[0m \u001b[0mname\u001b[0m\u001b[1;33m[\u001b[0m\u001b[1;33m:\u001b[0m\u001b[1;33m-\u001b[0m\u001b[1;36m1\u001b[0m\u001b[1;33m]\u001b[0m \u001b[1;32min\u001b[0m \u001b[0mself\u001b[0m\u001b[1;33m.\u001b[0m\u001b[0mvariables\u001b[0m\u001b[1;33m:\u001b[0m\u001b[1;33m\u001b[0m\u001b[0m\n\u001b[0;32m    427\u001b[0m             \u001b[1;31m# no unit checking\u001b[0m\u001b[1;33m\u001b[0m\u001b[1;33m\u001b[0m\u001b[0m\n",
            "\u001b[1;32mD:\\Programas\\Miniconda2\\envs\\bmnn\\lib\\site-packages\\brian2\\core\\variables.pyc\u001b[0m in \u001b[0;36mset_item\u001b[1;34m(self, item, value, level, namespace)\u001b[0m\n\u001b[0;32m    911\u001b[0m                 \u001b[1;31m# We do not want to go through code generation for runtime\u001b[0m\u001b[1;33m\u001b[0m\u001b[1;33m\u001b[0m\u001b[0m\n\u001b[0;32m    912\u001b[0m                     self.set_with_index_array(slice(None), value,\n\u001b[1;32m--\u003e 913\u001b[1;33m                                               check_units\u003dcheck_units)\n\u001b[0m\u001b[0;32m    914\u001b[0m             \u001b[1;32melse\u001b[0m\u001b[1;33m:\u001b[0m\u001b[1;33m\u001b[0m\u001b[0m\n\u001b[0;32m    915\u001b[0m                 self.set_with_expression_conditional(item,\n",
            "\u001b[1;32mD:\\Programas\\Miniconda2\\envs\\bmnn\\lib\\site-packages\\brian2\\core\\base.pyc\u001b[0m in \u001b[0;36mdevice_override_decorated_function\u001b[1;34m(*args, **kwds)\u001b[0m\n\u001b[0;32m    274\u001b[0m                 \u001b[1;32mreturn\u001b[0m \u001b[0mgetattr\u001b[0m\u001b[1;33m(\u001b[0m\u001b[0mcurdev\u001b[0m\u001b[1;33m,\u001b[0m \u001b[0mname\u001b[0m\u001b[1;33m)\u001b[0m\u001b[1;33m(\u001b[0m\u001b[1;33m*\u001b[0m\u001b[0margs\u001b[0m\u001b[1;33m,\u001b[0m \u001b[1;33m**\u001b[0m\u001b[0mkwds\u001b[0m\u001b[1;33m)\u001b[0m\u001b[1;33m\u001b[0m\u001b[0m\n\u001b[0;32m    275\u001b[0m             \u001b[1;32melse\u001b[0m\u001b[1;33m:\u001b[0m\u001b[1;33m\u001b[0m\u001b[0m\n\u001b[1;32m--\u003e 276\u001b[1;33m                 \u001b[1;32mreturn\u001b[0m \u001b[0mfunc\u001b[0m\u001b[1;33m(\u001b[0m\u001b[1;33m*\u001b[0m\u001b[0margs\u001b[0m\u001b[1;33m,\u001b[0m \u001b[1;33m**\u001b[0m\u001b[0mkwds\u001b[0m\u001b[1;33m)\u001b[0m\u001b[1;33m\u001b[0m\u001b[0m\n\u001b[0m\u001b[0;32m    277\u001b[0m \u001b[1;33m\u001b[0m\u001b[0m\n\u001b[0;32m    278\u001b[0m         \u001b[0mdevice_override_decorated_function\u001b[0m\u001b[1;33m.\u001b[0m\u001b[0m__doc__\u001b[0m \u001b[1;33m\u003d\u001b[0m \u001b[0mfunc\u001b[0m\u001b[1;33m.\u001b[0m\u001b[0m__doc__\u001b[0m\u001b[1;33m\u001b[0m\u001b[0m\n",
            "\u001b[1;32mD:\\Programas\\Miniconda2\\envs\\bmnn\\lib\\site-packages\\brian2\\core\\variables.pyc\u001b[0m in \u001b[0;36mset_with_index_array\u001b[1;34m(self, item, value, check_units)\u001b[0m\n\u001b[0;32m   1198\u001b[0m                                       \u001b[1;34m\u0027%d !\u003d %d.\u0027\u001b[0m\u001b[1;33m)\u001b[0m \u001b[1;33m%\u001b[0m \u001b[1;33m(\u001b[0m\u001b[0mlen\u001b[0m\u001b[1;33m(\u001b[0m\u001b[0mq\u001b[0m\u001b[1;33m)\u001b[0m\u001b[1;33m,\u001b[0m\u001b[1;33m\u001b[0m\u001b[0m\n\u001b[0;32m   1199\u001b[0m                                                       len(indices)))\n\u001b[1;32m-\u003e 1200\u001b[1;33m         \u001b[0mvariable\u001b[0m\u001b[1;33m.\u001b[0m\u001b[0mget_value\u001b[0m\u001b[1;33m(\u001b[0m\u001b[1;33m)\u001b[0m\u001b[1;33m[\u001b[0m\u001b[0mindices\u001b[0m\u001b[1;33m]\u001b[0m \u001b[1;33m\u003d\u001b[0m \u001b[0mvalue\u001b[0m\u001b[1;33m\u001b[0m\u001b[0m\n\u001b[0m\u001b[0;32m   1201\u001b[0m \u001b[1;33m\u001b[0m\u001b[0m\n\u001b[0;32m   1202\u001b[0m     \u001b[1;31m# Allow some basic calculations directly on the ArrayView object\u001b[0m\u001b[1;33m\u001b[0m\u001b[1;33m\u001b[0m\u001b[0m\n",
            "\u001b[1;31mValueError\u001b[0m: could not broadcast input array from shape (1003) into shape (10)"
          ],
          "output_type": "error"
        }
      ],
      "source": "import numpy as np\nimport matplotlib.pyplot as plt\nimport brian2 as b2\nimport math\nfrom brian2 import *\nfrom neurodynex.tools import input_factory, plot_tools\n\nstart_scope() \n# Descrição dos parâmetros\ntau \u003d 500*ms\nsimulation_time \u003d 1*second\nnum_inputs \u003d 10\n# input_rate \u003d 20*Hz \nweight \u003d 0.1\n\ndt \u003d 0.001\nt_end \u003d 3\nt \u003d np.linspace(0, t_end+1, t_end+1/dt) \ninput_rate \u003d (12 + 6*np.sin(2*math.pi*t) )* b2.Hz\n# Use this list to store output rates\noutput_rates \u003d []\n\n# Constructing the network \n\n# Descrição do modelo neurônio \neqs \u003d \u0027\u0027\u0027\ndv/dt \u003d -v/tau : 1\n\u0027\u0027\u0027\nP \u003d PoissonGroup(num_inputs, rates\u003dinput_rate, dt \u003d 0.01*ms)\nG \u003d NeuronGroup(1, eqs, threshold\u003d\u0027v\u003e1\u0027, reset\u003d\u0027v\u003d0\u0027, method\u003d\u0027exact\u0027)\n\nS \u003d Synapses(P, G, on_pre\u003d\u0027v +\u003d weight\u0027)\nS.connect()\n\nstatemon \u003d StateMonitor(G, \u0027v\u0027, record\u003dTrue) # monitor de potencial\nspikemon \u003d SpikeMonitor(G, \u0027v\u0027) # monitor de spikes\n# Run it and store the output firing rate in the list\nrun(simulation_time)\n\nprint(\"Number of spikes: %s\" % spikemon.count[:])\nprint(\"Spike times: %s\" % spikemon.t[:])\n\nfig \u003d figure(figsize\u003d(15, 5))\nplt.plot(spikemon.t/b2.ms, spikemon.v/b2.mV, c\u003d\u0027C3\u0027, lw\u003d3)\nfig \u003d figure(figsize\u003d(15, 5))\nplt.plot(statemon.t/b2.ms, statemon.v[0]/b2.mV, c\u003d\u0027C3\u0027, lw\u003d3)\nxlabel(\u0027time [ms]\u0027)\nylabel(\u0027Membrane potential [mV]\u0027)",
      "metadata": {
        "pycharm": {
          "metadata": false,
          "name": "#%%\n",
          "is_executing": false
        }
      }
    },
    {
      "cell_type": "code",
      "execution_count": null,
      "metadata": {
        "collapsed": true,
        "pycharm": {}
      },
      "outputs": [],
      "source": ""
    }
  ],
  "metadata": {
    "language_info": {
      "codemirror_mode": {
        "name": "ipython",
        "version": 2
      },
      "file_extension": ".py",
      "mimetype": "text/x-python",
      "name": "python",
      "nbconvert_exporter": "python",
      "pygments_lexer": "ipython2",
      "version": "2.7.6"
    },
    "kernelspec": {
      "name": "python2",
      "language": "python",
      "display_name": "Python 2"
    },
    "stem_cell": {
      "cell_type": "raw",
      "source": "",
      "metadata": {
        "pycharm": {
          "metadata": false
        }
      }
    }
  },
  "nbformat": 4,
  "nbformat_minor": 0
}