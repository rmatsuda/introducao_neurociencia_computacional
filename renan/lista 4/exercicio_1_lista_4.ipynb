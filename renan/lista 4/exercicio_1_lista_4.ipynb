{
  "cells": [
    {
      "cell_type": "code",
      "execution_count": 1,
      "metadata": {
        "collapsed": true,
        "pycharm": {
          "is_executing": false
        }
      },
      "outputs": [],
      "source": "%matplotlib inline\nimport brian2 as b2\nimport matplotlib.pyplot as plt\nimport numpy as np\nimport math\nfrom neurodynex. tools import input_factory\n"
    },
    {
      "cell_type": "code",
      "execution_count": null,
      "outputs": [
        {
          "name": "stderr",
          "text": [
            "WARNING    __main__:35: VisibleDeprecationWarning: using a non-integer number instead of an integer will result in an error in the future\n [py.warnings]\n"
          ],
          "output_type": "stream"
        }
      ],
      "source": "v_rest\u003d -70*b2.mV #EL\nv_reset\u003d -80*b2.mV #Vreset\nconductance_L \u003d 10*b2.nsiemens #GL\nmembrane_capacitance \u003d 100*b2.pF #CM\nfiring_threshold \u003d -50 * b2.mV #Vth\ndeltaVth \u003d 2*b2.mV\n\na \u003d 2*b2.nsiemens\nb \u003d 0*b2.nA\n\ntau_w \u003d 150*b2.ms\nv_max \u003d 20*b2.mV\n\nsimulation_time \u003d 10000\ndt \u003d  0.01*b2.ms \n\n#current \u003d 200.01 * b2.pamp\ncurrent \u003d 500*b2.pA\n# input_current \u003d input_factory.get_step_current(\n# t_start\u003d500, t_end\u003d1000, unit_time\u003db2.ms,\n# amplitude\u003dcurrent*b2.pA) \n\nappend_zero\u003dTrue\nt_start\u003d0\nt_end\u003dsimulation_time\nsigma \u003d 50*(b2.pA*(b2.second**0.5))\ndt_cur \u003d 0.01\nsigma \u003d sigma/(dt**0.5)\nmi\u003d0\nunit_time\u003db2.ms\n\ntmp_size \u003d 1 + t_end  # +1 for t\u003d0\nif append_zero:\n    tmp_size +\u003d 1\ntmp \u003d np.zeros((tmp_size/dt_cur, 1)) * b2.pA\n\nx \u003d np.linspace(0, t_end+1, tmp_size/dt_cur) * b2.pA\nnormal \u003d np.asarray(((1/np.sqrt(2*math.pi*sigma**2))*math.e**(-((x-mi)**2)/(2*sigma**2))))\nnormal \u003d normal*b2.pA  \ntmp[t_start: tmp_size/dt_cur + 1, 0] \u003d normal\n\ninput_current \u003d b2.TimedArray(tmp, dt\u003ddt)\n    \n# differential equation of Leaky Integrate-and-Fire model\neqs \u003d \"\"\"\n\ndv/dt \u003d (conductance_L/membrane_capacitance)*\n        (v_rest - v + deltaVth*exp((v-firing_threshold)/deltaVth))\n        - (w/membrane_capacitance)\n        + (input_current(t,i)/membrane_capacitance) : volt\ndw/dt \u003d (a*(v-v_rest)-w)/tau_w :  amp\n\"\"\"\nneuron \u003d b2.NeuronGroup(1, model\u003deqs, reset\u003d\"v\u003dv_reset; w\u003dw+b\",\n                        threshold\u003d\"v\u003ev_max\", method\u003d\"euler\")\nneuron.v \u003d v_rest\nneuron.w \u003d 0*b2.pA\n\n# monitoring membrane potential of neuron and injecting current\nstate_monitor \u003d b2.StateMonitor(neuron, [\"v\", \"w\"], record\u003dTrue)\nspike_monitor \u003d b2.SpikeMonitor(neuron)\n# run the simulation\nb2.run(simulation_time*b2.ms)\n\nprint(\"nr of spikes: {}\".format(spike_monitor.count[0]))\n#print(\"spikes times: {}\".format(spike_monitor.t[:]))\n\n#plot\nfig \u003d plt.figure(figsize\u003d(10,10))\n\nfig.add_subplot(3,1,1)\nc \u003d input_current(state_monitor.t, 0)\nplt.plot(state_monitor.t/b2.ms, c/b2.pA )\nplt.ylabel(\u0027Iapp (pA)\u0027)\nplt.grid()\n\nfig.add_subplot(3,1,2)\nplt.plot(state_monitor.t/b2.ms, state_monitor.v[0]/b2.mV)\n\nplt.ylabel(\u0027Potencial de membrana (mV)\u0027)\nplt.grid()\n#plt.legend([\"vm\", \"firing threshold\"], fontsize\u003d12)\n\nfig.add_subplot(3,1,3)\nplt.plot(state_monitor.t/b2.ms, state_monitor.w[0]/b2.pA)\nplt.grid()\nplt.xlabel(\u0027Tempo (s)\u0027)\nplt.ylabel(\u0027Corrente de adaptacao w (pA)\u0027)\n\nplt.show()",
      "metadata": {
        "pycharm": {
          "metadata": false,
          "name": "#%%\n",
          "is_executing": true
        }
      }
    },
    {
      "cell_type": "code",
      "execution_count": null,
      "outputs": [],
      "source": "v_rest\u003d -75*b2.mV #EL\nv_reset\u003d -80*b2.mV #Vreset\nconductance_L \u003d 10*b2.nsiemens #GL\nmembrane_capacitance \u003d 100*b2.pF #CM\nfiring_threshold \u003d -50 * b2.mV #Vth\ndeltaVth \u003d 2*b2.mV\n\na \u003d 2*b2.nsiemens\nb \u003d 0.02*b2.nA\n\ntau_w \u003d 200*b2.ms\nv_max \u003d 20*b2.mV\n\nsimulation_time \u003d 5\n\ninput_current \u003d np.arange(290, 600, 10)\n\neqs \u003d \"\"\"\ndv/dt \u003d (conductance_L/membrane_capacitance)*\n        (v_rest - v + deltaVth*exp((v-firing_threshold)/deltaVth))\n        - (w/membrane_capacitance)\n        + (input_current/membrane_capacitance) : volt\ndw/dt \u003d (a/tau_w) * (v - v_rest) - (w/tau_w) : ampere\ninput_current : amp\n\"\"\"\nneuron \u003d b2.NeuronGroup(len(input_current), model\u003deqs, \n                        reset\u003d\"v\u003dv_reset; w\u003dw+b\", \n                        threshold\u003d\"v\u003ev_max\", method\u003d\"euler\")\nneuron.v \u003d v_rest\nneuron.w \u003d 0*b2.pA\nneuron.input_current \u003d input_current*b2.pA\n\n# monitoring membrane potential of neuron and injecting current\nstate_monitor \u003d b2.StateMonitor(neuron, [\"v\",\"w\"], record\u003dTrue)\nspike_monitor \u003d b2.SpikeMonitor(neuron)\n# run the simulation\nb2.run(simulation_time*b2.second)\n\n",
      "metadata": {
        "pycharm": {
          "metadata": false,
          "name": "#%%\n"
        }
      }
    },
    {
      "cell_type": "code",
      "execution_count": null,
      "outputs": [],
      "source": "#plot\nplt.figure(1)\n\nfirst_inter \u003d [None]*len(input_current)\nstationary_inter \u003d [None]*len(input_current)\nfor i in range(len(input_current)):\n    first_inter[i] \u003d 1/(float(spike_monitor.spike_trains()[i][2])\n                        - float(spike_monitor.spike_trains()[i][1]))\n    \n    stationary_inter[i] \u003d 1/(float(spike_monitor.spike_trains()[i][-2])\n                             - float(spike_monitor.spike_trains()[i][-3]))\n\n#plt.plot(neuron.current/b2.pA, spike_monitor.count/simulation_time, \u0027*\u0027, label\u003d\u0027count\u0027)\nplt.plot(neuron.input_current/b2.pA, first_inter/b2.second, \u0027o\u0027, label\u003d\u0027first_inter\u0027)\nplt.plot(neuron.input_current/b2.pA, stationary_inter/b2.second, label\u003d\u0027stationary_inter\u0027)\nplt.xlabel(\u0027I (nA)\u0027)\nplt.ylabel(\u0027Firing rate (sp/s)\u0027)\nplt.legend()\nplt.grid()\nplt.show()#%%\n",
      "metadata": {
        "pycharm": {
          "metadata": false,
          "name": "#%%\n"
        }
      }
    }
  ],
  "metadata": {
    "language_info": {
      "codemirror_mode": {
        "name": "ipython",
        "version": 2
      },
      "file_extension": ".py",
      "mimetype": "text/x-python",
      "name": "python",
      "nbconvert_exporter": "python",
      "pygments_lexer": "ipython2",
      "version": "2.7.6"
    },
    "kernelspec": {
      "name": "python2",
      "language": "python",
      "display_name": "Python 2"
    }
  },
  "nbformat": 4,
  "nbformat_minor": 0
}