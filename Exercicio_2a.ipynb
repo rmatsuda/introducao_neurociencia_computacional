{
 "cells": [
  {
   "cell_type": "code",
   "execution_count": 31,
   "metadata": {},
   "outputs": [
    {
     "ename": "BrianObjectException",
     "evalue": "Original error and traceback:\nTraceback (most recent call last):\n  File \"C:\\Users\\adm\\Miniconda2\\envs\\bmnn\\lib\\site-packages\\brian2\\core\\network.py\", line 841, in before_run\n    obj.before_run(run_namespace)\n  File \"C:\\Users\\adm\\Miniconda2\\envs\\bmnn\\lib\\site-packages\\brian2\\groups\\neurongroup.py\", line 811, in before_run\n    self.equations.check_units(self, run_namespace=run_namespace)\n  File \"C:\\Users\\adm\\Miniconda2\\envs\\bmnn\\lib\\site-packages\\brian2\\equations\\equations.py\", line 963, in check_units\n    *ex.dims)\nDimensionMismatchError: Inconsistent units in differential equation defining variable v:\nExpression \"((El - v) / (Cm * Rm)) + (I / Cm) + (sigma / (tau ** (-0.5))) * xi\" uses inconsistent units (\"((El - v) / (Cm * Rm)) + (I / Cm)\" has unit metre ** 2 * kilogram * second ** -4 * amp ** -1; \"(sigma / (tau ** (-0.5))) * xi\" has unit second ** -0.5 * amp ** 0.5)\n\nError encountered with object named \"neurongroup\".\nObject was created here (most recent call only, full details in debug log):\n  File \"<ipython-input-31-d929fc5e9225>\", line 24, in <module>\n    G = NeuronGroup(1, eqs, threshold='v>Vl', reset= 'v=vr',  method='euler', dt= 0.1*ms )\n\nAn error occurred when preparing an object. DimensionMismatchError: Inconsistent units in differential equation defining variable v:\nExpression \"((El - v) / (Cm * Rm)) + (I / Cm) + (sigma / (tau ** (-0.5))) * xi\" uses inconsistent units (\"((El - v) / (Cm * Rm)) + (I / Cm)\" has unit metre ** 2 * kilogram * second ** -4 * amp ** -1; \"(sigma / (tau ** (-0.5))) * xi\" has unit second ** -0.5 * amp ** 0.5)\n(See above for original error message and traceback.)",
     "output_type": "error",
     "traceback": [
      "\u001b[1;31m---------------------------------------------------------------------------\u001b[0m",
      "\u001b[1;31mBrianObjectException\u001b[0m                      Traceback (most recent call last)",
      "\u001b[1;32m<ipython-input-31-d929fc5e9225>\u001b[0m in \u001b[0;36m<module>\u001b[1;34m()\u001b[0m\n\u001b[0;32m     28\u001b[0m \u001b[0mspikemon\u001b[0m \u001b[1;33m=\u001b[0m \u001b[0mSpikeMonitor\u001b[0m\u001b[1;33m(\u001b[0m\u001b[0mG\u001b[0m\u001b[1;33m)\u001b[0m\u001b[1;33m\u001b[0m\u001b[0m\n\u001b[0;32m     29\u001b[0m \u001b[1;33m\u001b[0m\u001b[0m\n\u001b[1;32m---> 30\u001b[1;33m \u001b[0mrun\u001b[0m\u001b[1;33m(\u001b[0m\u001b[1;36m300\u001b[0m\u001b[1;33m*\u001b[0m\u001b[0mms\u001b[0m\u001b[1;33m)\u001b[0m\u001b[1;33m\u001b[0m\u001b[0m\n\u001b[0m\u001b[0;32m     31\u001b[0m \u001b[1;33m\u001b[0m\u001b[0m\n\u001b[0;32m     32\u001b[0m \u001b[0mplot\u001b[0m\u001b[1;33m(\u001b[0m\u001b[0mstatemon\u001b[0m\u001b[1;33m.\u001b[0m\u001b[0mt\u001b[0m\u001b[1;33m/\u001b[0m\u001b[0mms\u001b[0m\u001b[1;33m,\u001b[0m \u001b[0mstatemon\u001b[0m\u001b[1;33m.\u001b[0m\u001b[0mv\u001b[0m\u001b[1;33m[\u001b[0m\u001b[1;36m0\u001b[0m\u001b[1;33m]\u001b[0m\u001b[1;33m/\u001b[0m\u001b[0mmV\u001b[0m\u001b[1;33m)\u001b[0m\u001b[1;33m\u001b[0m\u001b[0m\n",
      "\u001b[1;32mC:\\Users\\adm\\Miniconda2\\envs\\bmnn\\lib\\site-packages\\brian2\\units\\fundamentalunits.pyc\u001b[0m in \u001b[0;36mnew_f\u001b[1;34m(*args, **kwds)\u001b[0m\n\u001b[0;32m   2373\u001b[0m                                                      get_dimensions(newkeyset[k]))\n\u001b[0;32m   2374\u001b[0m \u001b[1;33m\u001b[0m\u001b[0m\n\u001b[1;32m-> 2375\u001b[1;33m             \u001b[0mresult\u001b[0m \u001b[1;33m=\u001b[0m \u001b[0mf\u001b[0m\u001b[1;33m(\u001b[0m\u001b[1;33m*\u001b[0m\u001b[0margs\u001b[0m\u001b[1;33m,\u001b[0m \u001b[1;33m**\u001b[0m\u001b[0mkwds\u001b[0m\u001b[1;33m)\u001b[0m\u001b[1;33m\u001b[0m\u001b[0m\n\u001b[0m\u001b[0;32m   2376\u001b[0m             \u001b[1;32mif\u001b[0m \u001b[1;34m'result'\u001b[0m \u001b[1;32min\u001b[0m \u001b[0mau\u001b[0m\u001b[1;33m:\u001b[0m\u001b[1;33m\u001b[0m\u001b[0m\n\u001b[0;32m   2377\u001b[0m                 \u001b[1;32mif\u001b[0m \u001b[0mau\u001b[0m\u001b[1;33m[\u001b[0m\u001b[1;34m'result'\u001b[0m\u001b[1;33m]\u001b[0m \u001b[1;33m==\u001b[0m \u001b[0mbool\u001b[0m\u001b[1;33m:\u001b[0m\u001b[1;33m\u001b[0m\u001b[0m\n",
      "\u001b[1;32mC:\\Users\\adm\\Miniconda2\\envs\\bmnn\\lib\\site-packages\\brian2\\core\\magic.pyc\u001b[0m in \u001b[0;36mrun\u001b[1;34m(duration, report, report_period, namespace, profile, level)\u001b[0m\n\u001b[0;32m    369\u001b[0m     '''\n\u001b[0;32m    370\u001b[0m     return magic_network.run(duration, report=report, report_period=report_period,\n\u001b[1;32m--> 371\u001b[1;33m                              namespace=namespace, profile=profile, level=2+level)\n\u001b[0m\u001b[0;32m    372\u001b[0m \u001b[0mrun\u001b[0m\u001b[1;33m.\u001b[0m\u001b[0m__module__\u001b[0m \u001b[1;33m=\u001b[0m \u001b[0m__name__\u001b[0m\u001b[1;33m\u001b[0m\u001b[0m\n\u001b[0;32m    373\u001b[0m \u001b[1;33m\u001b[0m\u001b[0m\n",
      "\u001b[1;32mC:\\Users\\adm\\Miniconda2\\envs\\bmnn\\lib\\site-packages\\brian2\\core\\magic.pyc\u001b[0m in \u001b[0;36mrun\u001b[1;34m(self, duration, report, report_period, namespace, profile, level)\u001b[0m\n\u001b[0;32m    229\u001b[0m         \u001b[0mself\u001b[0m\u001b[1;33m.\u001b[0m\u001b[0m_update_magic_objects\u001b[0m\u001b[1;33m(\u001b[0m\u001b[0mlevel\u001b[0m\u001b[1;33m=\u001b[0m\u001b[0mlevel\u001b[0m\u001b[1;33m+\u001b[0m\u001b[1;36m1\u001b[0m\u001b[1;33m)\u001b[0m\u001b[1;33m\u001b[0m\u001b[0m\n\u001b[0;32m    230\u001b[0m         Network.run(self, duration, report=report, report_period=report_period,\n\u001b[1;32m--> 231\u001b[1;33m                     namespace=namespace, profile=profile, level=level+1)\n\u001b[0m\u001b[0;32m    232\u001b[0m \u001b[1;33m\u001b[0m\u001b[0m\n\u001b[0;32m    233\u001b[0m     \u001b[1;32mdef\u001b[0m \u001b[0mstore\u001b[0m\u001b[1;33m(\u001b[0m\u001b[0mself\u001b[0m\u001b[1;33m,\u001b[0m \u001b[0mname\u001b[0m\u001b[1;33m=\u001b[0m\u001b[1;34m'default'\u001b[0m\u001b[1;33m,\u001b[0m \u001b[0mfilename\u001b[0m\u001b[1;33m=\u001b[0m\u001b[0mNone\u001b[0m\u001b[1;33m,\u001b[0m \u001b[0mlevel\u001b[0m\u001b[1;33m=\u001b[0m\u001b[1;36m0\u001b[0m\u001b[1;33m)\u001b[0m\u001b[1;33m:\u001b[0m\u001b[1;33m\u001b[0m\u001b[0m\n",
      "\u001b[1;32mC:\\Users\\adm\\Miniconda2\\envs\\bmnn\\lib\\site-packages\\brian2\\core\\base.pyc\u001b[0m in \u001b[0;36mdevice_override_decorated_function\u001b[1;34m(*args, **kwds)\u001b[0m\n\u001b[0;32m    274\u001b[0m                 \u001b[1;32mreturn\u001b[0m \u001b[0mgetattr\u001b[0m\u001b[1;33m(\u001b[0m\u001b[0mcurdev\u001b[0m\u001b[1;33m,\u001b[0m \u001b[0mname\u001b[0m\u001b[1;33m)\u001b[0m\u001b[1;33m(\u001b[0m\u001b[1;33m*\u001b[0m\u001b[0margs\u001b[0m\u001b[1;33m,\u001b[0m \u001b[1;33m**\u001b[0m\u001b[0mkwds\u001b[0m\u001b[1;33m)\u001b[0m\u001b[1;33m\u001b[0m\u001b[0m\n\u001b[0;32m    275\u001b[0m             \u001b[1;32melse\u001b[0m\u001b[1;33m:\u001b[0m\u001b[1;33m\u001b[0m\u001b[0m\n\u001b[1;32m--> 276\u001b[1;33m                 \u001b[1;32mreturn\u001b[0m \u001b[0mfunc\u001b[0m\u001b[1;33m(\u001b[0m\u001b[1;33m*\u001b[0m\u001b[0margs\u001b[0m\u001b[1;33m,\u001b[0m \u001b[1;33m**\u001b[0m\u001b[0mkwds\u001b[0m\u001b[1;33m)\u001b[0m\u001b[1;33m\u001b[0m\u001b[0m\n\u001b[0m\u001b[0;32m    277\u001b[0m \u001b[1;33m\u001b[0m\u001b[0m\n\u001b[0;32m    278\u001b[0m         \u001b[0mdevice_override_decorated_function\u001b[0m\u001b[1;33m.\u001b[0m\u001b[0m__doc__\u001b[0m \u001b[1;33m=\u001b[0m \u001b[0mfunc\u001b[0m\u001b[1;33m.\u001b[0m\u001b[0m__doc__\u001b[0m\u001b[1;33m\u001b[0m\u001b[0m\n",
      "\u001b[1;32mC:\\Users\\adm\\Miniconda2\\envs\\bmnn\\lib\\site-packages\\brian2\\units\\fundamentalunits.pyc\u001b[0m in \u001b[0;36mnew_f\u001b[1;34m(*args, **kwds)\u001b[0m\n\u001b[0;32m   2373\u001b[0m                                                      get_dimensions(newkeyset[k]))\n\u001b[0;32m   2374\u001b[0m \u001b[1;33m\u001b[0m\u001b[0m\n\u001b[1;32m-> 2375\u001b[1;33m             \u001b[0mresult\u001b[0m \u001b[1;33m=\u001b[0m \u001b[0mf\u001b[0m\u001b[1;33m(\u001b[0m\u001b[1;33m*\u001b[0m\u001b[0margs\u001b[0m\u001b[1;33m,\u001b[0m \u001b[1;33m**\u001b[0m\u001b[0mkwds\u001b[0m\u001b[1;33m)\u001b[0m\u001b[1;33m\u001b[0m\u001b[0m\n\u001b[0m\u001b[0;32m   2376\u001b[0m             \u001b[1;32mif\u001b[0m \u001b[1;34m'result'\u001b[0m \u001b[1;32min\u001b[0m \u001b[0mau\u001b[0m\u001b[1;33m:\u001b[0m\u001b[1;33m\u001b[0m\u001b[0m\n\u001b[0;32m   2377\u001b[0m                 \u001b[1;32mif\u001b[0m \u001b[0mau\u001b[0m\u001b[1;33m[\u001b[0m\u001b[1;34m'result'\u001b[0m\u001b[1;33m]\u001b[0m \u001b[1;33m==\u001b[0m \u001b[0mbool\u001b[0m\u001b[1;33m:\u001b[0m\u001b[1;33m\u001b[0m\u001b[0m\n",
      "\u001b[1;32mC:\\Users\\adm\\Miniconda2\\envs\\bmnn\\lib\\site-packages\\brian2\\core\\network.pyc\u001b[0m in \u001b[0;36mrun\u001b[1;34m(self, duration, report, report_period, namespace, profile, level)\u001b[0m\n\u001b[0;32m    949\u001b[0m             \u001b[0mnamespace\u001b[0m \u001b[1;33m=\u001b[0m \u001b[0mget_local_namespace\u001b[0m\u001b[1;33m(\u001b[0m\u001b[0mlevel\u001b[0m\u001b[1;33m=\u001b[0m\u001b[0mlevel\u001b[0m\u001b[1;33m+\u001b[0m\u001b[1;36m3\u001b[0m\u001b[1;33m)\u001b[0m\u001b[1;33m\u001b[0m\u001b[0m\n\u001b[0;32m    950\u001b[0m \u001b[1;33m\u001b[0m\u001b[0m\n\u001b[1;32m--> 951\u001b[1;33m         \u001b[0mself\u001b[0m\u001b[1;33m.\u001b[0m\u001b[0mbefore_run\u001b[0m\u001b[1;33m(\u001b[0m\u001b[0mnamespace\u001b[0m\u001b[1;33m)\u001b[0m\u001b[1;33m\u001b[0m\u001b[0m\n\u001b[0m\u001b[0;32m    952\u001b[0m \u001b[1;33m\u001b[0m\u001b[0m\n\u001b[0;32m    953\u001b[0m         \u001b[1;32mif\u001b[0m \u001b[0mlen\u001b[0m\u001b[1;33m(\u001b[0m\u001b[0mself\u001b[0m\u001b[1;33m.\u001b[0m\u001b[0mobjects\u001b[0m\u001b[1;33m)\u001b[0m\u001b[1;33m==\u001b[0m\u001b[1;36m0\u001b[0m\u001b[1;33m:\u001b[0m\u001b[1;33m\u001b[0m\u001b[0m\n",
      "\u001b[1;32mC:\\Users\\adm\\Miniconda2\\envs\\bmnn\\lib\\site-packages\\brian2\\core\\base.pyc\u001b[0m in \u001b[0;36mdevice_override_decorated_function\u001b[1;34m(*args, **kwds)\u001b[0m\n\u001b[0;32m    274\u001b[0m                 \u001b[1;32mreturn\u001b[0m \u001b[0mgetattr\u001b[0m\u001b[1;33m(\u001b[0m\u001b[0mcurdev\u001b[0m\u001b[1;33m,\u001b[0m \u001b[0mname\u001b[0m\u001b[1;33m)\u001b[0m\u001b[1;33m(\u001b[0m\u001b[1;33m*\u001b[0m\u001b[0margs\u001b[0m\u001b[1;33m,\u001b[0m \u001b[1;33m**\u001b[0m\u001b[0mkwds\u001b[0m\u001b[1;33m)\u001b[0m\u001b[1;33m\u001b[0m\u001b[0m\n\u001b[0;32m    275\u001b[0m             \u001b[1;32melse\u001b[0m\u001b[1;33m:\u001b[0m\u001b[1;33m\u001b[0m\u001b[0m\n\u001b[1;32m--> 276\u001b[1;33m                 \u001b[1;32mreturn\u001b[0m \u001b[0mfunc\u001b[0m\u001b[1;33m(\u001b[0m\u001b[1;33m*\u001b[0m\u001b[0margs\u001b[0m\u001b[1;33m,\u001b[0m \u001b[1;33m**\u001b[0m\u001b[0mkwds\u001b[0m\u001b[1;33m)\u001b[0m\u001b[1;33m\u001b[0m\u001b[0m\n\u001b[0m\u001b[0;32m    277\u001b[0m \u001b[1;33m\u001b[0m\u001b[0m\n\u001b[0;32m    278\u001b[0m         \u001b[0mdevice_override_decorated_function\u001b[0m\u001b[1;33m.\u001b[0m\u001b[0m__doc__\u001b[0m \u001b[1;33m=\u001b[0m \u001b[0mfunc\u001b[0m\u001b[1;33m.\u001b[0m\u001b[0m__doc__\u001b[0m\u001b[1;33m\u001b[0m\u001b[0m\n",
      "\u001b[1;32mC:\\Users\\adm\\Miniconda2\\envs\\bmnn\\lib\\site-packages\\brian2\\core\\network.pyc\u001b[0m in \u001b[0;36mbefore_run\u001b[1;34m(self, run_namespace)\u001b[0m\n\u001b[0;32m    841\u001b[0m                     \u001b[0mobj\u001b[0m\u001b[1;33m.\u001b[0m\u001b[0mbefore_run\u001b[0m\u001b[1;33m(\u001b[0m\u001b[0mrun_namespace\u001b[0m\u001b[1;33m)\u001b[0m\u001b[1;33m\u001b[0m\u001b[0m\n\u001b[0;32m    842\u001b[0m                 \u001b[1;32mexcept\u001b[0m \u001b[0mException\u001b[0m \u001b[1;32mas\u001b[0m \u001b[0mex\u001b[0m\u001b[1;33m:\u001b[0m\u001b[1;33m\u001b[0m\u001b[0m\n\u001b[1;32m--> 843\u001b[1;33m                     \u001b[1;32mraise\u001b[0m \u001b[0mbrian_object_exception\u001b[0m\u001b[1;33m(\u001b[0m\u001b[1;34m\"An error occurred when preparing an object.\"\u001b[0m\u001b[1;33m,\u001b[0m \u001b[0mobj\u001b[0m\u001b[1;33m,\u001b[0m \u001b[0mex\u001b[0m\u001b[1;33m)\u001b[0m\u001b[1;33m\u001b[0m\u001b[0m\n\u001b[0m\u001b[0;32m    844\u001b[0m \u001b[1;33m\u001b[0m\u001b[0m\n\u001b[0;32m    845\u001b[0m         \u001b[1;31m# Check that no object has been run as part of another network before\u001b[0m\u001b[1;33m\u001b[0m\u001b[1;33m\u001b[0m\u001b[0m\n",
      "\u001b[1;31mBrianObjectException\u001b[0m: Original error and traceback:\nTraceback (most recent call last):\n  File \"C:\\Users\\adm\\Miniconda2\\envs\\bmnn\\lib\\site-packages\\brian2\\core\\network.py\", line 841, in before_run\n    obj.before_run(run_namespace)\n  File \"C:\\Users\\adm\\Miniconda2\\envs\\bmnn\\lib\\site-packages\\brian2\\groups\\neurongroup.py\", line 811, in before_run\n    self.equations.check_units(self, run_namespace=run_namespace)\n  File \"C:\\Users\\adm\\Miniconda2\\envs\\bmnn\\lib\\site-packages\\brian2\\equations\\equations.py\", line 963, in check_units\n    *ex.dims)\nDimensionMismatchError: Inconsistent units in differential equation defining variable v:\nExpression \"((El - v) / (Cm * Rm)) + (I / Cm) + (sigma / (tau ** (-0.5))) * xi\" uses inconsistent units (\"((El - v) / (Cm * Rm)) + (I / Cm)\" has unit metre ** 2 * kilogram * second ** -4 * amp ** -1; \"(sigma / (tau ** (-0.5))) * xi\" has unit second ** -0.5 * amp ** 0.5)\n\nError encountered with object named \"neurongroup\".\nObject was created here (most recent call only, full details in debug log):\n  File \"<ipython-input-31-d929fc5e9225>\", line 24, in <module>\n    G = NeuronGroup(1, eqs, threshold='v>Vl', reset= 'v=vr',  method='euler', dt= 0.1*ms )\n\nAn error occurred when preparing an object. DimensionMismatchError: Inconsistent units in differential equation defining variable v:\nExpression \"((El - v) / (Cm * Rm)) + (I / Cm) + (sigma / (tau ** (-0.5))) * xi\" uses inconsistent units (\"((El - v) / (Cm * Rm)) + (I / Cm)\" has unit metre ** 2 * kilogram * second ** -4 * amp ** -1; \"(sigma / (tau ** (-0.5))) * xi\" has unit second ** -0.5 * amp ** 0.5)\n(See above for original error message and traceback.)"
     ]
    }
   ],
   "source": [
    "%matplotlib inline\n",
    "import numpy as np\n",
    "import matplotlib.pyplot as plt\n",
    "import brian2 as b2\n",
    "from brian2 import *\n",
    "\n",
    "start_scope()\n",
    "\n",
    "\n",
    "Cm = 2*nfarad\n",
    "Rm = 5e6*ohm\n",
    "El = -70*mV\n",
    "Vl = -50*mV\n",
    "vr = -65*mV\n",
    "I = 4.1*namp\n",
    "tau = 4.1*namp\n",
    "\n",
    "eqs = '''\n",
    "dv/dt = ((El - v) / (Cm*Rm)) + (I/Cm) + sigma/tau**-0.5*xi : volt\n",
    "'''\n",
    "\n",
    "start_scope()\n",
    "\n",
    "G = NeuronGroup(1, eqs, threshold='v>Vl', reset= 'v=vr',  method='euler', dt= 0.1*ms )\n",
    "\n",
    "G.v = -70*mV # initial value\n",
    "statemon = StateMonitor(G, 'v', record=0)\n",
    "spikemon = SpikeMonitor(G)\n",
    "\n",
    "run(300*ms)\n",
    "\n",
    "plot(statemon.t/ms, statemon.v[0]/mV)\n",
    "for t in spikemon.t:\n",
    "    axvline(t/ms, ls='--', c='C1', lw=3)\n",
    "axhline(-50, ls=':', c='C2', lw=3)\n",
    "xlabel('Time (ms)')\n",
    "ylabel('v (mV)')\n",
    "print(\"Spike times: %s\" % spikemon.t[:])\n",
    "\n"
   ]
  },
  {
   "cell_type": "code",
   "execution_count": null,
   "metadata": {},
   "outputs": [],
   "source": []
  },
  {
   "cell_type": "code",
   "execution_count": null,
   "metadata": {},
   "outputs": [],
   "source": []
  }
 ],
 "metadata": {
  "kernelspec": {
   "display_name": "Python 2",
   "language": "python",
   "name": "python2"
  },
  "language_info": {
   "codemirror_mode": {
    "name": "ipython",
    "version": 2
   },
   "file_extension": ".py",
   "mimetype": "text/x-python",
   "name": "python",
   "nbconvert_exporter": "python",
   "pygments_lexer": "ipython2",
   "version": "2.7.16"
  }
 },
 "nbformat": 4,
 "nbformat_minor": 2
}
